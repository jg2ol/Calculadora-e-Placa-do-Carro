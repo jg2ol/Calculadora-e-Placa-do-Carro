{
  "cells": [
    {
      "cell_type": "markdown",
      "metadata": {
        "colab_type": "text",
        "id": "view-in-github"
      },
      "source": [
        "<a href=\"https://colab.research.google.com/github/jg2ol/Itin-Python/blob/main/Aula02_Itin_.ipynb\" target=\"_parent\"><img src=\"https://colab.research.google.com/assets/colab-badge.svg\" alt=\"Open In Colab\"/></a>"
      ]
    },
    {
      "cell_type": "markdown",
      "metadata": {
        "id": "7TieiPH6lapj"
      },
      "source": [
        "Aula 02 - (29/02/24)"
      ]
    },
    {
      "cell_type": "code",
      "execution_count": null,
      "metadata": {
        "colab": {
          "base_uri": "https://localhost:8080/"
        },
        "id": "tIpAhttmyTRW",
        "outputId": "c2efb000-35c4-49e9-fce3-78ddc022b79f"
      },
      "outputs": [
        {
          "name": "stdout",
          "output_type": "stream",
          "text": [
            "Insira seu número: 16\n",
            "O número 16 está entre 10 e 20\n"
          ]
        }
      ],
      "source": [
        "# Intervalo numérico\n",
        "\n",
        "num = int(input(\"Insira seu número: \"))\n",
        "if num < 10:\n",
        "  print(\"O número\", num, \"é menor do que 10\")\n",
        "elif num > 10 and num < 20:\n",
        "  print(\"O número\", num, \"está entre 10 e 20\")\n",
        "elif num == 10:\n",
        "  print(\"O número é igual a 10\")\n",
        "elif num == 20:\n",
        "  print(\"O número é igual a 20\")\n",
        "else:\n",
        "  print(\"O número\", num, \"é maior do que 20\")"
      ]
    },
    {
      "cell_type": "code",
      "execution_count": null,
      "metadata": {
        "colab": {
          "base_uri": "https://localhost:8080/"
        },
        "id": "9DwxbC6UyxwI",
        "outputId": "7cb3fe9c-5321-496f-e097-0923d283f7eb"
      },
      "outputs": [
        {
          "name": "stdout",
          "output_type": "stream",
          "text": [
            "Diga-me sua idade: 10\n",
            "Você não tem idade suficiente para assistir ao filme.\n"
          ]
        }
      ],
      "source": [
        "# Permissão p/ assistir o filme\n",
        "\n",
        "idade = int(input(\"Diga-me sua idade: \"))\n",
        "if idade < 18:\n",
        "  print(\"Você não tem idade suficiente para assistir ao filme.\")\n",
        "else:\n",
        "  auto = input(\"Você tem autorização dos seus pais para assistir ao filme? \")\n",
        "  if auto == \"sim\":\n",
        "    print(\"Tenha um bom filme!\")\n",
        "  else:\n",
        "    print(\"Você não pode assistir ao filme pois não está autorizado.\")"
      ]
    },
    {
      "cell_type": "code",
      "execution_count": 1,
      "metadata": {
        "colab": {
          "base_uri": "https://localhost:8080/"
        },
        "id": "xh7xLqV22mM8",
        "outputId": "d1948c20-f9d2-4fd3-fd4e-a14633f8b8f6"
      },
      "outputs": [
        {
          "name": "stdout",
          "output_type": "stream",
          "text": [
            "Digite um número: 3\n",
            "O número 3 é um positivo ímpar\n"
          ]
        }
      ],
      "source": [
        "# Conjuntos numéricos e paridade\n",
        "\n",
        "num = int(input(\"Digite um número: \"))\n",
        "if num < 0 and num%2 == 0:\n",
        "  print(\"O número\", num, \"é um negativo par.\")\n",
        "elif num < 0 and num%2 == 1:\n",
        "  print(\"O número\", num, \"é um negativo ímpar.\")\n",
        "elif num == 0:\n",
        "  print(\"O número\", num, \"é neutro e par.\")\n",
        "elif num > 0 and num%2 == 0:\n",
        "  print(\"O número\", num, \"é um positivo par.\")\n",
        "elif num > 0 and num%2 == 1:\n",
        "  print(\"O número\", num, \"é um positivo ímpar.\")\n",
        "else:\n",
        "  print(\"Por definição, digite um número inteiro.\")"
      ]
    },
    {
      "cell_type": "code",
      "execution_count": 6,
      "metadata": {
        "colab": {
          "base_uri": "https://localhost:8080/"
        },
        "id": "Gl295jZw3kUv",
        "outputId": "9deda5d8-7986-43aa-fdb3-b2fab397df7c"
      },
      "outputs": [
        {
          "name": "stdout",
          "output_type": "stream",
          "text": [
            "Digite uma das medidas de lado do triângulo: -1\n",
            "Digite outra medida de lado do triângulo: 3\n",
            "Digite a última medida de lado do triângulo: 3\n",
            "Medidas de comprimento sempre são números positivos.\n"
          ]
        }
      ],
      "source": [
        "# Classificação de triângulos quanto às medidas dos lados\n",
        "\n",
        "a = float(input(\"Digite uma das medidas de lado do triângulo: \"))\n",
        "b = float(input(\"Digite outra medida de lado do triângulo: \"))\n",
        "c = float(input(\"Digite a última medida de lado do triângulo: \"))\n",
        "if a>0 and b>0 and c>0:\n",
        "  if a!=b and b!=c and a!=c:\n",
        "    print(\"O triângulo é escaleno.\")\n",
        "  elif a==b and b!=c or b==c and a!=b or a==c and b!=c:\n",
        "    print(\"O triângulo é isósceles e não equilátero.\")\n",
        "  else:\n",
        "    print(\"O triângulo é equilátero.\")\n",
        "else:\n",
        "  print(\"Medidas de comprimento sempre são números positivos.\")"
      ]
    },
    {
      "cell_type": "code",
      "execution_count": 8,
      "metadata": {
        "colab": {
          "base_uri": "https://localhost:8080/"
        },
        "id": "YyoKiwxDW4D3",
        "outputId": "df3e9bc0-bdfb-43cf-9130-b5e470898074"
      },
      "outputs": [
        {
          "name": "stdout",
          "output_type": "stream",
          "text": [
            "1 - Segunda-feira\n",
            "2 - Terça-feira\n",
            "3 - Quarta-feira\n",
            "4 - Quinta-feira\n",
            "5 - Sexta-feira\n",
            "6 - Sábado\n",
            "7 - Domingo\n",
            "\n",
            "Qual o dia da semana? 3\n",
            "Valor da conta: R$240\n",
            "O valor da conta é R$ 204.0\n"
          ]
        }
      ],
      "source": [
        "# Restaurante - Valor da conta\n",
        "\n",
        "print(\"1 - Segunda-feira\")\n",
        "print(\"2 - Terça-feira\")\n",
        "print(\"3 - Quarta-feira\")\n",
        "print(\"4 - Quinta-feira\")\n",
        "print(\"5 - Sexta-feira\")\n",
        "print(\"6 - Sábado\")\n",
        "print(\"7 - Domingo\")\n",
        "print()\n",
        "dia = int(input(\"Qual o dia da semana? \"))\n",
        "\n",
        "if dia == 1:\n",
        "  valor = float(input(\"Valor da conta: R$\"))\n",
        "  if valor > 100:\n",
        "    conta = valor*(9/10)\n",
        "    print(\"O valor da conta é R$\", conta)\n",
        "  elif valor <= 100 and valor > 0:\n",
        "    print(\"O valor da conta é R$\", valor)\n",
        "  else:\n",
        "    print(\"Por favor, insira um número positivo.\")\n",
        "\n",
        "elif dia == 2:\n",
        "  valor = float(input(\"Valor da conta: R$\"))\n",
        "  if valor > 50:\n",
        "    conta = valor*(19/20)\n",
        "    print(\"O valor da conta é R$\", conta)\n",
        "  elif valor <= 50 and valor > 0:\n",
        "    print(\"O valor da conta é R$\", valor)\n",
        "  else:\n",
        "    print(\"Por favor, insira um número positivo.\")\n",
        "\n",
        "elif dia == 3:\n",
        "  valor = float(input(\"Valor da conta: R$\"))\n",
        "  if valor > 200:\n",
        "    conta = valor*(17/20)\n",
        "    print(\"O valor da conta é R$\", conta)\n",
        "  elif valor <= 200 and valor > 0:\n",
        "    print(\"O valor da conta é R$\", valor)\n",
        "  else:\n",
        "    print(\"Por favor, insira um número positivo.\")\n",
        "\n",
        "elif dia == 4:\n",
        "  valor = float(input(\"Valor da conta: R$\"))\n",
        "  if valor > 150:\n",
        "    conta = valor*(4/5)\n",
        "    print(\"O valor da conta é R$\", conta)\n",
        "  elif valor <= 150 and valor > 0:\n",
        "    print(\"O valor da conta é R$\", valor)\n",
        "  else:\n",
        "    print(\"Por favor, insira um número positivo.\")\n",
        "\n",
        "elif dia == 5:\n",
        "  valor = float(input(\"Valor da conta: R$\"))\n",
        "  if valor > 300:\n",
        "    conta = valor*(3/4)\n",
        "    print(\"O valor da conta é R$\", conta)\n",
        "  elif valor <= 300 and valor > 0:\n",
        "    print(\"O valor da conta é R$\", valor)\n",
        "  else:\n",
        "    print(\"Por favor, insira um número positivo.\")\n",
        "\n",
        "elif dia == 6:\n",
        "  valor = float(input(\"Valor da conta: R$\"))\n",
        "  if valor < 100:\n",
        "    conta = valor*(19/20)\n",
        "    print(\"O valor da conta é R$\", conta)\n",
        "  elif valor <= 100 and valor > 0:\n",
        "    conta = valor*(9/10)\n",
        "    print(\"O valor da conta é R$\", conta)\n",
        "  else:\n",
        "    print(\"Por favor, insira um número positivo.\")\n",
        "\n",
        "elif dia == 7:\n",
        "  valor = float(input(\"Valor da conta: R$\"))\n",
        "  if valor < 200:\n",
        "    conta = valor*(9/10)\n",
        "    print(\"O valor da conta é R$\", conta)\n",
        "  elif valor <= 200 and valor > 0:\n",
        "    conta = valor*(17/20)\n",
        "    print(\"O valor da conta é R$\", conta)\n",
        "  else:\n",
        "    print(\"Por favor, insira um número positivo.\")\n",
        "\n",
        "else:\n",
        "  print(\"Dia da semana inválido, considere digitar um valor de 1 a 7.\")"
      ]
    },
    {
      "cell_type": "code",
      "execution_count": 11,
      "metadata": {
        "colab": {
          "base_uri": "https://localhost:8080/"
        },
        "id": "4BDlXQdB1Od7",
        "outputId": "4b2ad656-0305-4a25-8c1b-76e32201594d"
      },
      "outputs": [
        {
          "name": "stdout",
          "output_type": "stream",
          "text": [
            "Digite seu usuário: admin\n",
            "Digite a sua senha: admin\n",
            "Selecione a opção que você deseja, as opções são:\n",
            "1) Cadastro Direto\n",
            "2) Cadastro do Professor\n",
            "3) Cadastro do Aluno\n",
            "4) Calculadora\n",
            "Opção: 4\n",
            "Você selecionou Calculadora! Te direcionaremos a uma calculadora funcional.\n",
            "Os operações são:\n",
            "1) Adição\n",
            "2) Subtração\n",
            "3) Produto\n",
            "4) Divisão\n",
            "Qual a operação desejada? (1,2,3 ou 4): 6\n",
            "Operação inválida, digite um número de 1 a 4\n",
            "Informe os números com que quer trabalhar\n",
            "Primeiro número: 4\n",
            "Segundo número: 6\n"
          ]
        }
      ],
      "source": [
        "# Usuário e senha\n",
        "\n",
        "us = str(input(\"Digite seu usuário: \"))\n",
        "se = str(input(\"Digite a sua senha: \"))\n",
        "a = \"admin\"\n",
        "c = us == a\n",
        "d = se == a\n",
        "\n",
        "if c == True and d == True:\n",
        "  print (\"Selecione a opção que você deseja, as opções são:\")\n",
        "  print(\"1) Cadastro Direto\")\n",
        "  print(\"2) Cadastro do Professor\")\n",
        "  print(\"3) Cadastro do Aluno\")\n",
        "  print(\"4) Calculadora\")\n",
        "  opção = int(input(\"Opção: \"))\n",
        "\n",
        "  if opção == 1:\n",
        "    print(\"Você selecionou Cadastro Direto! Responda a alguns questionamentos sobre seus dados:\")\n",
        "    nome = str(input(\"Qual seu nome de usuário? \"))\n",
        "    senha = input(\"Qual sua senha? \")\n",
        "    tipodeid = float(input(\"Qual o tipo do seu ID? \"))\n",
        "    print(\"As informações fornecidas foram:\")\n",
        "    print(\"Usuário: \", us)\n",
        "    print(\"Senha: \", se)\n",
        "    print(\"Nome: \", nome)\n",
        "    print(\"Senha fornecida: \", senha)\n",
        "    print(\"Tipode ID: \", tipodeid)\n",
        "\n",
        "  elif opção == 2:\n",
        "    print(\"Você selecionou Cadastro do Professor! Responda a alguns questionamentos sobre seus dados:\")\n",
        "    prof = str(input(\"Qual seu nome? \"))\n",
        "    mat = str(input(\"Que matéria você leciona? \"))\n",
        "    id = float(input(\"Qual o seu ID? \"))\n",
        "    print(\"As informações fornecidas foram:\")\n",
        "    print(\"Usuário: \", us)\n",
        "    print(\"Senha: \", se)\n",
        "    print(\"Nome: \", prof)\n",
        "    print(\"Matéria lecionada: \", mat)\n",
        "    print(\"ID: \", id)\n",
        "\n",
        "  elif opção == 3:\n",
        "    print(\"Você selecionou Cadastro do Aluno! Responda a alguns questionamentos sobre seus dados:\")\n",
        "    aluno = str(input(\"Qual seu nome de usuário? \"))\n",
        "    senha = float(input(\"Qual sua senha? \"))\n",
        "    mat = str(input(\"Que matéria você estuda? \"))\n",
        "    ano = float(input(\"Qual a sua série? \"))\n",
        "    print(\"As informações fornecidas foram:\")\n",
        "    print(\"Usuário: \", us)\n",
        "    print(\"Senha: \", se)\n",
        "    print(\"Nome: \", aluno)\n",
        "    print(\"Senha fornecida: \", senha)\n",
        "    print(\"Matéria: \", mat)\n",
        "    print(\"Série: \", ano)\n",
        "\n",
        "  elif opção == 4:\n",
        "    print(\"Você selecionou Calculadora! Te direcionaremos a uma calculadora funcional.\")\n",
        "    print(\"Os operações são:\")\n",
        "    print(\"1) Adição\")\n",
        "    print(\"2) Subtração\")\n",
        "    print(\"3) Produto\")\n",
        "    print(\"4) Divisão\")\n",
        "\n",
        "    operação = int(input(\"Qual a operação desejada? (1,2,3 ou 4): \"))\n",
        "    print(\"Informe os números com que quer trabalhar\")\n",
        "\n",
        "    a = float(input(\"Primeiro número: \"))\n",
        "    b = float(input(\"Segundo número: \"))\n",
        "\n",
        "    if operação == 1:\n",
        "      soma = a + b\n",
        "      print(\"O resultado é\", soma)\n",
        "\n",
        "    elif operação == 2:\n",
        "      subtração = a - b\n",
        "      print(\"O resultado é\", subtração)\n",
        "\n",
        "    elif operação == 3:\n",
        "      multiplicação = a*b\n",
        "      print(\"O resultado é\", multiplicação)\n",
        "\n",
        "    elif operação == 4:\n",
        "      if b != 0:\n",
        "        divisão = a/b\n",
        "        print(\"O resultado é\", divisão)\n",
        "      else:\n",
        "        print(\"Erro: Divisão por zero!\")\n",
        "\n",
        "    else:\n",
        "      print(\"Operação inválida, digite um número de 1 a 4\")\n",
        "\n",
        "  else:\n",
        "    print(\"Opção inválida, digite um número de 1 a 4\")\n",
        "\n",
        "elif c == False and d == True:\n",
        "  print(\"Nome de usuário incorreto, tente novamente.\")\n",
        "\n",
        "elif d == False and c == True:\n",
        "  print(\"Senha incorreta, tente novamente.\")\n",
        "\n",
        "else:\n",
        "  print(\"Nome de usuário e senha incorretos, tente novamente.\")"
      ]
    }
  ],
  "metadata": {
    "colab": {
      "authorship_tag": "ABX9TyPW5lsMcsqG2iWGJFuNleSO",
      "include_colab_link": true,
      "provenance": []
    },
    "kernelspec": {
      "display_name": "Python 3",
      "name": "python3"
    },
    "language_info": {
      "name": "python",
      "version": "3.11.9"
    }
  },
  "nbformat": 4,
  "nbformat_minor": 0
}
