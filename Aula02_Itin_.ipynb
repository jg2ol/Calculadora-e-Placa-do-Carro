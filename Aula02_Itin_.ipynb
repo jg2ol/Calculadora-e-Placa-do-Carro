{
  "nbformat": 4,
  "nbformat_minor": 0,
  "metadata": {
    "colab": {
      "provenance": [],
      "authorship_tag": "ABX9TyN7YrqfFAB+FUSpN/zwyD5t",
      "include_colab_link": true
    },
    "kernelspec": {
      "name": "python3",
      "display_name": "Python 3"
    },
    "language_info": {
      "name": "python"
    }
  },
  "cells": [
    {
      "cell_type": "markdown",
      "metadata": {
        "id": "view-in-github",
        "colab_type": "text"
      },
      "source": [
        "<a href=\"https://colab.research.google.com/github/jg2ol/Itin-Python/blob/main/Aula02_Itin_.ipynb\" target=\"_parent\"><img src=\"https://colab.research.google.com/assets/colab-badge.svg\" alt=\"Open In Colab\"/></a>"
      ]
    },
    {
      "cell_type": "markdown",
      "source": [
        "Aula 02 - (29/02/24)"
      ],
      "metadata": {
        "id": "7TieiPH6lapj"
      }
    },
    {
      "cell_type": "code",
      "source": [
        "# Intervalo numérico\n",
        "\n",
        "num = int(input(\"Insira seu número: \"))\n",
        "if num < 10:\n",
        "  print(\"O número\", num, \"é menor do que 10\")\n",
        "elif num > 10 and num < 20:\n",
        "  print(\"O número\", num, \"está entre 10 e 20\")\n",
        "elif num == 10:\n",
        "  print(\"O número é igual a 10\")\n",
        "elif num == 20:\n",
        "  print(\"O número é igual a 20\")\n",
        "else:\n",
        "  print(\"O número\", num, \"é maior do que 20\")"
      ],
      "metadata": {
        "colab": {
          "base_uri": "https://localhost:8080/"
        },
        "id": "tIpAhttmyTRW",
        "outputId": "c2efb000-35c4-49e9-fce3-78ddc022b79f"
      },
      "execution_count": null,
      "outputs": [
        {
          "output_type": "stream",
          "name": "stdout",
          "text": [
            "Insira seu número: 16\n",
            "O número 16 está entre 10 e 20\n"
          ]
        }
      ]
    },
    {
      "cell_type": "code",
      "source": [
        "# Permissão p/ assistir o filme\n",
        "\n",
        "idade = int(input(\"Diga-me sua idade: \"))\n",
        "if idade < 18:\n",
        "  print(\"Você não tem idade suficiente para assistir ao filme.\")\n",
        "else:\n",
        "  auto = input(\"Você tem autorização dos seus pais para assistir ao filme? \")\n",
        "  if auto == \"sim\":\n",
        "    print(\"Tenha um bom filme!\")\n",
        "  else:\n",
        "    print(\"Você não pode assistir ao filme pois não está autorizado.\")"
      ],
      "metadata": {
        "colab": {
          "base_uri": "https://localhost:8080/"
        },
        "id": "9DwxbC6UyxwI",
        "outputId": "7cb3fe9c-5321-496f-e097-0923d283f7eb"
      },
      "execution_count": null,
      "outputs": [
        {
          "output_type": "stream",
          "name": "stdout",
          "text": [
            "Diga-me sua idade: 10\n",
            "Você não tem idade suficiente para assistir ao filme.\n"
          ]
        }
      ]
    },
    {
      "cell_type": "code",
      "source": [
        "# Conjuntos numéricos e paridade\n",
        "\n",
        "num = int(input(\"Digite um número: \"))\n",
        "if num < 0 and num%2 == 0:\n",
        "  print(\"O número\", num, \"é um negativo par\")\n",
        "elif num < 0 and num%2 == 1:\n",
        "  print(\"O número\", num, \"é um negativo ímpar\")\n",
        "if num == 0:\n",
        "  print(\"O número\", num, \"é neutro e par\")\n",
        "if num > 0 and num%2 == 0:\n",
        "  print(\"O número\", num, \"é um positivo par\")\n",
        "if num > 0 and num%2 == 1:\n",
        "  print(\"O número\", num, \"é um positivo ímpar\")"
      ],
      "metadata": {
        "colab": {
          "base_uri": "https://localhost:8080/"
        },
        "id": "xh7xLqV22mM8",
        "outputId": "d1f78a70-71c3-4dcd-b994-199885c60dd3"
      },
      "execution_count": null,
      "outputs": [
        {
          "output_type": "stream",
          "name": "stdout",
          "text": [
            "Digite um número: -7\n",
            "O número -7 é um negativo ímpar\n"
          ]
        }
      ]
    },
    {
      "cell_type": "code",
      "source": [
        "# Classificação de triângulos quanto às medidas dos lados\n",
        "\n",
        "a = int(input(\"Digite uma das medidas de lado do triângulo: \"))\n",
        "b = int(input(\"Digite outra medida de lado do triângulo: \"))\n",
        "c = int(input(\"Digite a última medida de lado do triângulo: \"))\n",
        "if a != b and b != c and a != c:\n",
        "  print(\"O triângulo é escaleno.\")\n",
        "elif a == b and b != c:\n",
        "  print(\"O triângulo é isósceles.\")\n",
        "elif b == c and a != b:\n",
        "  print(\"O triângulo é isósceles.\")\n",
        "elif a == c and b != c:\n",
        "  print(\"O triângulo é isósceles.\")\n",
        "elif a == b and b == c:\n",
        "  print(\"O triângulo é equilátero.\")"
      ],
      "metadata": {
        "colab": {
          "base_uri": "https://localhost:8080/"
        },
        "id": "Gl295jZw3kUv",
        "outputId": "a40b647f-d933-4d2d-bc9d-bbae781a78f8"
      },
      "execution_count": null,
      "outputs": [
        {
          "output_type": "stream",
          "name": "stdout",
          "text": [
            "Digite uma das medidas de lado do triângulo: 1\n",
            "Digite outra medida de lado do triângulo: 2\n",
            "Digite a última medida de lado do triângulo: 2\n",
            "O triângulo é isósceles.\n"
          ]
        }
      ]
    },
    {
      "cell_type": "code",
      "source": [
        "# Restaurante - Valor da conta\n",
        "\n",
        "print(\"1 - Segunda-feira\")\n",
        "print(\"2 - Terça-feira\")\n",
        "print(\"3 - Quarta-feira\")\n",
        "print(\"4 - Quinta-feira\")\n",
        "print(\"5 - Sexta-feira\")\n",
        "print(\"6 - Sábado\")\n",
        "print(\"7 - Domingo\")\n",
        "print()\n",
        "dia = int(input(\"Qual o dia da semana? \"))\n",
        "\n",
        "if dia == 1:\n",
        "  valor = int(input(\"Valor da conta: R$\"))\n",
        "  if valor > 100:\n",
        "    conta = valor*(9/10)\n",
        "    print(\"O valor da conta é R$\", conta)\n",
        "  else:\n",
        "    print(\"O valor da conta é R$\", valor)\n",
        "\n",
        "elif dia == 2:\n",
        "  valor = int(input(\"Valor da conta: R$\"))\n",
        "  if valor > 50:\n",
        "    conta = valor*(19/20)\n",
        "    print(\"O valor da conta é R$\", conta)\n",
        "  else:\n",
        "    print(\"O valor da conta é R$\", valor)\n",
        "\n",
        "elif dia == 3:\n",
        "  valor = int(input(\"Valor da conta: R$\"))\n",
        "  if valor > 200:\n",
        "    conta = valor*(17/20)\n",
        "    print(\"O valor da conta é R$\", conta)\n",
        "  else:\n",
        "    print(\"O valor da conta é R$\", valor)\n",
        "\n",
        "elif dia == 4:\n",
        "  valor = int(input(\"Valor da conta: R$\"))\n",
        "  if valor > 150:\n",
        "    conta = valor*(4/5)\n",
        "    print(\"O valor da conta é R$\", conta)\n",
        "  else:\n",
        "    print(\"O valor da conta é R$\", valor)\n",
        "\n",
        "elif dia == 5:\n",
        "  valor = int(input(\"Valor da conta: R$\"))\n",
        "  if valor > 300:\n",
        "    conta = valor*(3/4)\n",
        "    print(\"O valor da conta é R$\", conta)\n",
        "  else:\n",
        "    print(\"O valor da conta é R$\", valor)\n",
        "\n",
        "elif dia == 6:\n",
        "  valor = int(input(\"Valor da conta: R$\"))\n",
        "  if valor < 100:\n",
        "    conta = valor*(19/20)\n",
        "    print(\"O valor da conta é R$\", conta)\n",
        "  else:\n",
        "    conta = valor*(9/10)\n",
        "    print(\"O valor da conta é R$\", conta)\n",
        "\n",
        "elif dia == 7:\n",
        "  valor = int(input(\"Valor da conta: R$\"))\n",
        "  if valor < 200:\n",
        "    conta = valor*(9/10)\n",
        "    print(\"O valor da conta é R$\", conta)\n",
        "  else:\n",
        "    conta = valor*(17/20)\n",
        "    print(\"O valor da conta é R$\", conta)"
      ],
      "metadata": {
        "colab": {
          "base_uri": "https://localhost:8080/"
        },
        "id": "YyoKiwxDW4D3",
        "outputId": "5d4a71d2-f827-4469-90a8-4ec399b02252"
      },
      "execution_count": null,
      "outputs": [
        {
          "output_type": "stream",
          "name": "stdout",
          "text": [
            "1 - Segunda-feira\n",
            "2 - Terça-feira\n",
            "3 - Quarta-feira\n",
            "4 - Quinta-feira\n",
            "5 - Sexta-feira\n",
            "6 - Sábado\n",
            "7 - Domingo\n",
            "\n",
            "Qual o dia da semana? 6\n",
            "Valor da conta: R$60\n",
            "O valor da conta é R$ 57.0\n"
          ]
        }
      ]
    },
    {
      "cell_type": "code",
      "source": [
        "# Usuário e senha\n",
        "\n",
        "us = str(input(\"Digite seu usuário: \"))\n",
        "se = str(input(\"Digite a sua senha: \"))\n",
        "a = \"admin\"\n",
        "c = us == a\n",
        "d = se == a\n",
        "\n",
        "if c == False:\n",
        "  print(\"Nome de usuário incorreto, tente novamente.\")\n",
        "\n",
        "elif d == False:\n",
        "  print(\"Senha incorreta, tente novamente.\")\n",
        "\n",
        "elif c == d == False:\n",
        "  print(\"Nome de usuário e senha incorretos, tente novamente.\")\n",
        "\n",
        "else:\n",
        "  print (\"Selecione a opção que você deseja, as opções são:\")\n",
        "  print(\"1) Cadastro Direto\")\n",
        "  print(\"2) Cadastro do Professor\")\n",
        "  print(\"3) Cadastro do Aluno\")\n",
        "  print(\"4) Calculadora\")\n",
        "  opção = int(input(\"Opção: \"))\n",
        "\n",
        "  if opção == 1:\n",
        "    print(\"Você selecionou Cadastro Direto! Responda a alguns questionamentos sobre seus dados:\")\n",
        "    nome = str(input(\"Qual seu nome de usuário? \"))\n",
        "    senha = input(\"Qual sua senha? \")\n",
        "    tipodeid = float(input(\"Qual o tipo do seu ID? \"))\n",
        "    print(\"As informações fornecidas foram:\")\n",
        "    print(\"Usuário: \", us)\n",
        "    print(\"Senha: \", se)\n",
        "    print(\"Nome: \", nome)\n",
        "    print(\"Senha fornecida: \", senha)\n",
        "    print(\"Tipode ID: \", tipodeid)\n",
        "\n",
        "  elif opção == 2:\n",
        "    print(\"Você selecionou Cadastro do Professor! Responda a alguns questionamentos sobre seus dados:\")\n",
        "    prof = str(input(\"Qual seu nome? \"))\n",
        "    mat = str(input(\"Que matéria você leciona? \"))\n",
        "    id = float(input(\"Qual o seu ID? \"))\n",
        "    print(\"As informações fornecidas foram:\")\n",
        "    print(\"Usuário: \", us)\n",
        "    print(\"Senha: \", se)\n",
        "    print(\"Nome: \", prof)\n",
        "    print(\"Matéria lecionada: \", mat)\n",
        "    print(\"ID: \", id)\n",
        "\n",
        "  elif opção == 3:\n",
        "    print(\"Você selecionou Cadastro do Aluno! Responda a alguns questionamentos sobre seus dados:\")\n",
        "    aluno = str(input(\"Qual seu nome de usuário? \"))\n",
        "    senha = float(input(\"Qual sua senha? \"))\n",
        "    mat = str(input(\"Que matéria você estuda? \"))\n",
        "    ano = float(input(\"Qual a sua série? \"))\n",
        "    print(\"As informações fornecidas foram:\")\n",
        "    print(\"Usuário: \", us)\n",
        "    print(\"Senha: \", se)\n",
        "    print(\"Nome: \", aluno)\n",
        "    print(\"Senha fornecida: \", senha)\n",
        "    print(\"Matéria: \", mat)\n",
        "    print(\"Série: \", ano)\n",
        "\n",
        "  elif opção == 4:\n",
        "    print(\"Você selecionou Calculadora! Te direcionaremos a uma calculadora funcional.\")\n",
        "    print(\"Os operações são:\")\n",
        "    print(\"1) Adição\")\n",
        "    print(\"2) Subtração\")\n",
        "    print(\"3) Produto\")\n",
        "    print(\"4) Divisão\")\n",
        "    operação = int(input(\"Qual a operação desejada? (1,2,3 ou 4): \"))\n",
        "    print(\"Informe os números com que quer trabalhar\")\n",
        "\n",
        "    a = float(input(\"Primeiro número: \"))\n",
        "    b = float(input(\"Segundo número: \"))\n",
        "    if operação == 1:\n",
        "      soma = a + b\n",
        "      print(\"O resultado é\", soma)\n",
        "    elif operação == 2:\n",
        "      subtração = a - b\n",
        "      print(\"O resultado é\", subtração)\n",
        "    elif operação == 3:\n",
        "      multiplicação = a*b\n",
        "      print(\"O resultado é\", multiplicação)\n",
        "    elif operação == 4:\n",
        "      if b != 0:\n",
        "        divisão = a/b\n",
        "        print(\"O resultado é\", divisão)\n",
        "      else:\n",
        "        print(\"Erro: Divisão por zero!\")"
      ],
      "metadata": {
        "colab": {
          "base_uri": "https://localhost:8080/"
        },
        "id": "4BDlXQdB1Od7",
        "outputId": "4b458ea5-f1ae-4201-9023-e51eb3a46f34"
      },
      "execution_count": null,
      "outputs": [
        {
          "output_type": "stream",
          "name": "stdout",
          "text": [
            "Digite seu usuário: admin\n",
            "Digite a sua senha: admin\n",
            "Selecione a opção que você deseja, as opções são:\n",
            "1) Cadastro Direto\n",
            "2) Cadastro do Professor\n",
            "3) Cadastro do Aluno\n",
            "4) Calculadora\n",
            "Opção: 4\n",
            "Você selecionou Calculadora! Te direcionaremos a uma calculadora funcional.\n",
            "Os operações são:\n",
            "1) Adição\n",
            "2) Subtração\n",
            "3) Produto\n",
            "4) Divisão\n",
            "Qual a operação desejada? (1,2,3 ou 4): 4\n",
            "Informe os números com que quer trabalhar\n",
            "Primeiro número: 2\n",
            "Segundo número: 0\n",
            "Erro: Divisão por zero!\n"
          ]
        }
      ]
    }
  ]
}