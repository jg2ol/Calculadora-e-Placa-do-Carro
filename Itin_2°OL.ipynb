{
  "nbformat": 4,
  "nbformat_minor": 0,
  "metadata": {
    "colab": {
      "provenance": [],
      "toc_visible": true,
      "authorship_tag": "ABX9TyNa3DLj1ZtP472btHi5CZb+",
      "include_colab_link": true
    },
    "kernelspec": {
      "name": "python3",
      "display_name": "Python 3"
    },
    "language_info": {
      "name": "python"
    }
  },
  "cells": [
    {
      "cell_type": "markdown",
      "metadata": {
        "id": "view-in-github",
        "colab_type": "text"
      },
      "source": [
        "<a href=\"https://colab.research.google.com/github/jg2ol/Itin-Python/blob/main/Itin_2%C2%B0OL.ipynb\" target=\"_parent\"><img src=\"https://colab.research.google.com/assets/colab-badge.svg\" alt=\"Open In Colab\"/></a>"
      ]
    },
    {
      "cell_type": "markdown",
      "source": [
        "1. O que são variáveis e Atribuição\n",
        "\n",
        "R: Uma variável é um nome que se refere a um valor.Variáveis são usadas para guardarmos valores que serão usados mais tarde no programa.\n",
        "Atribuição Um comando é uma unidade de código que o interpretador pode executar."
      ],
      "metadata": {
        "id": "YWmV1FRHrTFd"
      }
    },
    {
      "cell_type": "markdown",
      "source": [
        "2. Quais são os quatro principais tipos de variáveis em programação\n",
        "e como elas se diferenciam?\n",
        "\n",
        "R: Tipo Inteiro (int) - Uma variável que expressa um valor numérico inteiro\n",
        "\n",
        "Ponto Flutuante ou Decimal (float) - Uma variável que expressa um valor numérico não inteiro\n",
        "\n",
        "String (str) - Uma variável que expressa caracteres em formato de texto\n",
        "\n",
        "Boolean (bool) - São"
      ],
      "metadata": {
        "id": "wtGcMhB2sEpn"
      }
    },
    {
      "cell_type": "markdown",
      "source": [
        "3. Como você imprime \"Olá, Mundo!\" em Python?\n",
        "\n",
        "print('Olá, Mundo!')"
      ],
      "metadata": {
        "id": "gp2GZz2Ntian"
      }
    },
    {
      "cell_type": "markdown",
      "source": [
        "4. Como você solicita a entrada do usuário em Python?\n",
        "\n",
        "R: Utilizando a função input()."
      ],
      "metadata": {
        "id": "bt7iGb-CuP-W"
      }
    },
    {
      "cell_type": "code",
      "source": [
        "#5. Crie uma calculadora simples em Python que abranja os conceitos aprendidos durante a aula.\n",
        "print(\"Selecione a operação desejada:\")\n",
        "print(\"1. Adição\")\n",
        "print(\"2. Subtração\")\n",
        "print(\"3. Multiplicação\")\n",
        "print(\"4. Divisão\")\n",
        "oper = input(\"Digite o número da operação: \")\n",
        "num1 = int(input('Digite o primeiro número: '))\n",
        "num2 = int(input('Digite o segundo número: '))\n",
        "if oper == '1':\n",
        "  r = num1 + num2\n",
        "  print(r)\n",
        "elif oper == '2':\n",
        "  r = num1 - num2\n",
        "  print(r)\n",
        "elif oper == '3':\n",
        "  r = num1*num2\n",
        "  print(r)\n",
        "elif oper == '4':\n",
        "  if num2 != '0':\n",
        "    r = num1/num2\n",
        "    print(r)\n",
        "  else:\n",
        "    print(\"Indeterminado, divisão por zero\")"
      ],
      "metadata": {
        "colab": {
          "base_uri": "https://localhost:8080/"
        },
        "id": "gjdT3J3gvSbL",
        "outputId": "030797e6-4d9e-4d4b-ad6b-3966b812f383"
      },
      "execution_count": null,
      "outputs": [
        {
          "output_type": "stream",
          "name": "stdout",
          "text": [
            "Selecione a operação desejada:\n",
            "1. Adição\n",
            "2. Subtração\n",
            "3. Multiplicação\n",
            "4. Divisão\n",
            "Digite o número da operação: 4\n",
            "Digite o primeiro número: 5\n",
            "Digite o segundo número: 4\n",
            "1.25\n"
          ]
        }
      ]
    },
    {
      "cell_type": "code",
      "source": [
        "# Q. extra\n",
        "ud = int(input(\"Digite o último dígito da placa do carro: \"))\n",
        "if ud == 1 or ud == 2:\n",
        "  print(\"Este veículo pode circular somente às segundas-feiras.\")\n",
        "elif ud == 3 or ud == 4:\n",
        "  print(\"Este veículo pode circular somente às terças-feiras.\")\n",
        "elif ud == 5 or ud == 6:\n",
        "  print(\"Este veículo pode circular somente às quartas-feiras.\")\n",
        "elif ud == 7 or ud == 8:\n",
        "  print(\"Este veículo pode circular somente às quintas-feiras.\")\n",
        "elif ud == 9 or ud == 0:\n",
        "  print(\"Este veículo pode circular somente às sextas-feiras.\")\n",
        "else:\n",
        "  print(\"Dígito da placa inválido, tente novamente\")"
      ],
      "metadata": {
        "colab": {
          "base_uri": "https://localhost:8080/"
        },
        "id": "INaKdphZw9rR",
        "outputId": "bd8a561b-72fb-4ef7-f231-91ccd26779a2"
      },
      "execution_count": null,
      "outputs": [
        {
          "output_type": "stream",
          "name": "stdout",
          "text": [
            "Digite o último dígito da placa do carro: 56\n",
            "Dígito da placa inválido, tente novamente\n"
          ]
        }
      ]
    },
    {
      "cell_type": "markdown",
      "source": [
        "num = int(input(\"Insira seu número: \"))\n",
        "if num <= 10:\n",
        "  print(\"O número\", num, \"é menor do que 10\")\n",
        "elif num >= 10 and num <= 20:\n",
        "  print(\"O número\", num, \"está entre 10 e 20\")\n",
        "else:\n",
        "  print(\"O número\", num, \"é maior do que 20\")"
      ],
      "metadata": {
        "id": "8bbO1Qz7xG-e"
      }
    },
    {
      "cell_type": "code",
      "source": [
        "num = int(input(\"Insira seu número: \"))\n",
        "if num < 10:\n",
        "  print(\"O número\", num, \"é menor do que 10\")\n",
        "elif num > 10 and num < 20:\n",
        "  print(\"O número\", num, \"está entre 10 e 20\")\n",
        "elif num == 10:\n",
        "  print(\"O número é igual a 10\")\n",
        "elif num == 20:\n",
        "  print(\"O número é igual a 20\")\n",
        "else:\n",
        "  print(\"O número\", num, \"é maior do que 20\")"
      ],
      "metadata": {
        "colab": {
          "base_uri": "https://localhost:8080/"
        },
        "id": "tIpAhttmyTRW",
        "outputId": "c2efb000-35c4-49e9-fce3-78ddc022b79f"
      },
      "execution_count": null,
      "outputs": [
        {
          "output_type": "stream",
          "name": "stdout",
          "text": [
            "Insira seu número: 16\n",
            "O número 16 está entre 10 e 20\n"
          ]
        }
      ]
    },
    {
      "cell_type": "code",
      "source": [
        "idade = int(input(\"Digite sua idade: \"))\n",
        "if idade < 18:\n",
        "  print(\"Você não pode assistir ao filme\")\n",
        "else:\n",
        "  print(\"Tenha um bom filme!\")"
      ],
      "metadata": {
        "colab": {
          "base_uri": "https://localhost:8080/"
        },
        "id": "9DwxbC6UyxwI",
        "outputId": "2dfbdf74-3406-470d-c174-93b1fc912ed4"
      },
      "execution_count": null,
      "outputs": [
        {
          "output_type": "stream",
          "name": "stdout",
          "text": [
            "Digite sua idade: 10\n",
            "Você não pode assistir ao filme\n"
          ]
        }
      ]
    },
    {
      "cell_type": "code",
      "source": [
        "num = int(input(\"Digite um número: \"))\n",
        "if num < 0 and num%2 == 0:\n",
        "  print(\"O número\", num, \"é um negativo par\")\n",
        "elif num < 0 and num%2 == 1:\n",
        "  print(\"O número\", num, \"é um negativo ímpar\")\n",
        "if num == 0:\n",
        "  print(\"O número\", num, \"é neutro e par\")\n",
        "if num > 0 and num%2 == 0:\n",
        "  print(\"O número\", num, \"é um positivo par\")\n",
        "if num > 0 and num%2 == 1:\n",
        "  print(\"O número\", num, \"é um positivo ímpar\")"
      ],
      "metadata": {
        "colab": {
          "base_uri": "https://localhost:8080/"
        },
        "id": "xh7xLqV22mM8",
        "outputId": "d1f78a70-71c3-4dcd-b994-199885c60dd3"
      },
      "execution_count": null,
      "outputs": [
        {
          "output_type": "stream",
          "name": "stdout",
          "text": [
            "Digite um número: -7\n",
            "O número -7 é um negativo ímpar\n"
          ]
        }
      ]
    },
    {
      "cell_type": "code",
      "source": [
        "a = int(input(\"Digite uma das medidas de lado do triângulo: \"))\n",
        "b = int(input(\"Digite outra medida de lado do triângulo: \"))\n",
        "c = int(input(\"Digite a última medida de lado do triângulo: \"))\n",
        "if a != b and b != c and a != c:\n",
        "  print(\"O triângulo é escaleno.\")\n",
        "elif a == b and b != c:\n",
        "  print(\"O triângulo é isósceles.\")\n",
        "elif b == c and a != b:\n",
        "  print(\"O triângulo é isósceles.\")\n",
        "elif a == c and b != c:\n",
        "  print(\"O triângulo é isósceles.\")\n",
        "elif a == b and b == c:\n",
        "  print(\"O triângulo é equilátero.\")"
      ],
      "metadata": {
        "colab": {
          "base_uri": "https://localhost:8080/"
        },
        "id": "Gl295jZw3kUv",
        "outputId": "a40b647f-d933-4d2d-bc9d-bbae781a78f8"
      },
      "execution_count": null,
      "outputs": [
        {
          "output_type": "stream",
          "name": "stdout",
          "text": [
            "Digite uma das medidas de lado do triângulo: 1\n",
            "Digite outra medida de lado do triângulo: 2\n",
            "Digite a última medida de lado do triângulo: 2\n",
            "O triângulo é isósceles.\n"
          ]
        }
      ]
    },
    {
      "cell_type": "code",
      "source": [
        "idade = int(input(\"Diga-me sua idade: \"))\n",
        "if idade < 18:\n",
        "  print(\"Você não tem idade suficiente para assistir ao filme.\")\n",
        "else:\n",
        "  auto = input(\"Você tem autorização dos seus pais para assistir ao filme? \")\n",
        "  if auto == \"sim\":\n",
        "    print(\"Tenha um bom filme!\")\n",
        "  else:\n",
        "    print(\"Você não pode assistir ao filme pois não está autorizado.\")"
      ],
      "metadata": {
        "colab": {
          "base_uri": "https://localhost:8080/"
        },
        "id": "UJgb4aWQSYgR",
        "outputId": "ef04daec-b9ae-4f49-97bd-4cfdb76e6d8c"
      },
      "execution_count": null,
      "outputs": [
        {
          "output_type": "stream",
          "name": "stdout",
          "text": [
            "Diga-me sua idade: 22\n",
            "Você tem autorização dos seus pais para assistir ao filme? sim\n",
            "Tenha um bom filme!\n"
          ]
        }
      ]
    },
    {
      "cell_type": "code",
      "source": [
        "a = input(\"Digite seu nome de usuário: \")\n",
        "b = input(\"Digite sua senha: \")\n",
        "if a == \"admin\" and b == \"admin\":\n",
        "  print(\"Cadastro finalizado com sucesso!\")\n",
        "else:\n",
        "  print(\"Senha ou nome de usuário incorreto, por favor, tente novamente.\")"
      ],
      "metadata": {
        "colab": {
          "base_uri": "https://localhost:8080/"
        },
        "id": "4BDlXQdB1Od7",
        "outputId": "0a4d0538-59bb-4081-aa3c-0096d438823a"
      },
      "execution_count": null,
      "outputs": [
        {
          "output_type": "stream",
          "name": "stdout",
          "text": [
            "Digite seu nome de usuário: s\n",
            "Digite sua senha: f\n",
            "Senha ou nome de usuário incorreto, por favor, tente novamente.\n"
          ]
        }
      ]
    }
  ]
}