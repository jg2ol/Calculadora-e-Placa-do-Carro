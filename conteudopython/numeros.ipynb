{
 "cells": [
  {
   "cell_type": "code",
   "execution_count": null,
   "metadata": {},
   "outputs": [
    {
     "name": "stdout",
     "output_type": "stream",
     "text": [
      "Digite um número de 0 a 9999 para transformá-lo para a base 8: 1234\n",
      "02322\n",
      "\n",
      "0b10011010010\n",
      "2322\n",
      "4d2\n"
     ]
    }
   ],
   "source": [
    "# sistema de conversão de bases numéricas\n",
    "\n",
    "num = int(input(\"Digite um número de 0 a 9999 para transformá-lo para a base 8: \"))\n",
    "u = str(num%8)\n",
    "d = str(num//(8**1)%8)\n",
    "c = str(num//(8**2)%8)\n",
    "um = str(num//(8**3)%8)\n",
    "dm = str(num//(8**4))\n",
    "print(f\"{dm}{um}{c}{d}{u}\")\n",
    "\n",
    "print()\n",
    "\n",
    "print(bin(num))\n",
    "print(oct(num)[2:])\n",
    "print(hex(num)[2:])"
   ]
  },
  {
   "cell_type": "code",
   "execution_count": null,
   "metadata": {},
   "outputs": [
    {
     "name": "stdout",
     "output_type": "stream",
     "text": [
      "Tabuada do 2:\n",
      "2 x 0 = 0\n",
      "2 x 1 = 2\n",
      "2 x 2 = 4\n",
      "2 x 3 = 6\n",
      "2 x 4 = 8\n",
      "2 x 5 = 10\n",
      "2 x 6 = 12\n",
      "2 x 7 = 14\n",
      "2 x 8 = 16\n",
      "2 x 9 = 18\n",
      "2 x 10 = 20\n",
      "Tabuada do 3:\n",
      "3 x 0 = 0\n",
      "3 x 1 = 3\n",
      "3 x 2 = 6\n",
      "3 x 3 = 9\n",
      "3 x 4 = 12\n",
      "3 x 5 = 15\n",
      "3 x 6 = 18\n",
      "3 x 7 = 21\n",
      "3 x 8 = 24\n",
      "3 x 9 = 27\n",
      "3 x 10 = 30\n",
      "Tabuada do 4:\n",
      "4 x 0 = 0\n",
      "4 x 1 = 4\n",
      "4 x 2 = 8\n",
      "4 x 3 = 12\n",
      "4 x 4 = 16\n",
      "4 x 5 = 20\n",
      "4 x 6 = 24\n",
      "4 x 7 = 28\n",
      "4 x 8 = 32\n",
      "4 x 9 = 36\n",
      "4 x 10 = 40\n"
     ]
    }
   ],
   "source": [
    "# uso do for p/ criação de matrizes\n",
    "\n",
    "for n1 in range(2, 5):\n",
    "  print(f\"Tabuada do {n1}:\")\n",
    "  for n2 in range(11):\n",
    "    print(f\"{n1} x {n2} = {n1*n2}\")\n",
    "# o range(m, n) faz a variável temporária percorrer os valores de m até (n-1)"
   ]
  },
  {
   "cell_type": "code",
   "execution_count": null,
   "metadata": {},
   "outputs": [
    {
     "name": "stdout",
     "output_type": "stream",
     "text": [
      "Digite um número de 0 até 9999: 123\n",
      "Unidade: 3\n",
      "Dezena: 2\n",
      "Centena: 1\n",
      "Unidade de milhar: 0\n"
     ]
    }
   ],
   "source": [
    "# mostrando os algarismos de um número, matematicamente\n",
    "\n",
    "num = int(input(\"Digite um número de 0 até 9999: \"))\n",
    "u = num % 10\n",
    "d = num // 10 % 10\n",
    "c = num // 100 % 10\n",
    "um = num // 1000 % 10\n",
    "print(f\"Unidade: {u}\")\n",
    "print(f\"Dezena: {d}\")\n",
    "print(f\"Centena: {c}\")\n",
    "print(f\"Unidade de milhar: {um}\")"
   ]
  }
 ],
 "metadata": {
  "language_info": {
   "name": "python"
  }
 },
 "nbformat": 4,
 "nbformat_minor": 2
}
