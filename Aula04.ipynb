{
  "nbformat": 4,
  "nbformat_minor": 0,
  "metadata": {
    "colab": {
      "provenance": [],
      "authorship_tag": "ABX9TyOXpHwByKBpHe+9JhrzMn23",
      "include_colab_link": true
    },
    "kernelspec": {
      "name": "python3",
      "display_name": "Python 3"
    },
    "language_info": {
      "name": "python"
    }
  },
  "cells": [
    {
      "cell_type": "markdown",
      "metadata": {
        "id": "view-in-github",
        "colab_type": "text"
      },
      "source": [
        "<a href=\"https://colab.research.google.com/github/jg2ol/Itin-Python/blob/main/Aula04.ipynb\" target=\"_parent\"><img src=\"https://colab.research.google.com/assets/colab-badge.svg\" alt=\"Open In Colab\"/></a>"
      ]
    },
    {
      "cell_type": "code",
      "execution_count": 1,
      "metadata": {
        "id": "VZZHS5LCTjwL",
        "colab": {
          "base_uri": "https://localhost:8080/",
          "height": 211
        },
        "outputId": "6873af1c-a677-4ea1-93cf-5bc713800cfa"
      },
      "outputs": [
        {
          "name": "stdout",
          "output_type": "stream",
          "text": [
            "Digite: Chama Sandro\n"
          ]
        },
        {
          "output_type": "error",
          "ename": "NameError",
          "evalue": "name 'contagem' is not defined",
          "traceback": [
            "\u001b[0;31m---------------------------------------------------------------------------\u001b[0m",
            "\u001b[0;31mNameError\u001b[0m                                 Traceback (most recent call last)",
            "\u001b[0;32m<ipython-input-1-2cac0b338055>\u001b[0m in \u001b[0;36m<cell line: 13>\u001b[0;34m()\u001b[0m\n\u001b[1;32m     11\u001b[0m     \u001b[0mconty\u001b[0m\u001b[0;34m[\u001b[0m\u001b[0mz\u001b[0m\u001b[0;34m]\u001b[0m \u001b[0;34m=\u001b[0m \u001b[0;36m1\u001b[0m\u001b[0;34m\u001b[0m\u001b[0;34m\u001b[0m\u001b[0m\n\u001b[1;32m     12\u001b[0m \u001b[0;34m\u001b[0m\u001b[0m\n\u001b[0;32m---> 13\u001b[0;31m \u001b[0mprint\u001b[0m\u001b[0;34m(\u001b[0m\u001b[0mcontagem\u001b[0m\u001b[0;34m)\u001b[0m\u001b[0;34m\u001b[0m\u001b[0;34m\u001b[0m\u001b[0m\n\u001b[0m\u001b[1;32m     14\u001b[0m \u001b[0mprint\u001b[0m\u001b[0;34m(\u001b[0m\u001b[0mconty\u001b[0m\u001b[0;34m)\u001b[0m\u001b[0;34m\u001b[0m\u001b[0;34m\u001b[0m\u001b[0m\n",
            "\u001b[0;31mNameError\u001b[0m: name 'contagem' is not defined"
          ]
        }
      ],
      "source": [
        "# 1. Escreva um programa que receba a frase de um usuário e conte quantas vezes cada palavra aparece na frase. Em seguida, imprima um dicionário onde as chaves são as palavras e os valores são as contagens.\n",
        "\n",
        "x = input(\"Digite: \")\n",
        "y = x.split(\",\")\n",
        "conty = {}\n",
        "\n",
        "for z in y:\n",
        "  if z in conty:\n",
        "    conty[z] = conty[z] + 1\n",
        "  else:\n",
        "    conty[z] = 1\n",
        "\n",
        "print(contagem)\n",
        "print(conty)"
      ]
    },
    {
      "cell_type": "code",
      "source": [
        "# 2. Desenvolva um programa que atue como um tradutor simples. O programa deve conter um dicionário onde as chaves são palavras em inglês e os valores são as traduções para o outro idioma (por exemplo, português). O usuário deve inserir uma palavra em inglês e o programa deve retornar sua tradução.\n",
        "\n",
        "tradutor = {\"Apple\": \"Maçã\", \"Orange\": \"Laranja\", \"Blue\": \"Azul\", \"Golden\": \"Dourado(a)\", \"Flame\": \"Chama\"}\n",
        "\n",
        "print(\"Insira uma das seguintes palavras para traduzi-la:\")\n",
        "print(\"1) Apple\")\n",
        "print(\"2) Orange\")\n",
        "print(\"3) Blue\")\n",
        "print(\"4) Golden\")\n",
        "print(\"5) Flame\")\n",
        "print()\n",
        "\n",
        "palavras_em_ingles = tradutor.keys()\n",
        "palavra = input()\n",
        "\n",
        "if palavra in palavras_em_ingles:\n",
        "  chave_palavra = tradutor[f\"{palavra}\"]\n",
        "  print(f\"A tradução de {palavra} é {chave_palavra}.\")\n",
        "else:\n",
        "  print(\"Esta palavra não está cadastrada neste tradutor.\")\n"
      ],
      "metadata": {
        "colab": {
          "base_uri": "https://localhost:8080/"
        },
        "id": "aPY-HtZoWNEz",
        "outputId": "9ea828bc-e18e-49fa-a31d-cf3ee7c9eb23"
      },
      "execution_count": null,
      "outputs": [
        {
          "output_type": "stream",
          "name": "stdout",
          "text": [
            "Insira uma das seguintes palavras para traduzi-la:\n",
            "1) Apple\n",
            "2) Orange\n",
            "3) Blue\n",
            "4) Golden\n",
            "5) Flame\n",
            "\n",
            "Golden\n",
            "A tradução de Golden é Dourado(a).\n"
          ]
        }
      ]
    }
  ]
}