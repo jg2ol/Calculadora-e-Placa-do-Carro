{
  "nbformat": 4,
  "nbformat_minor": 0,
  "metadata": {
    "colab": {
      "provenance": [],
      "authorship_tag": "ABX9TyM6SVKYYufNwqvw+9w3zN9K",
      "include_colab_link": true
    },
    "kernelspec": {
      "name": "python3",
      "display_name": "Python 3"
    },
    "language_info": {
      "name": "python"
    }
  },
  "cells": [
    {
      "cell_type": "markdown",
      "metadata": {
        "id": "view-in-github",
        "colab_type": "text"
      },
      "source": [
        "<a href=\"https://colab.research.google.com/github/jg2ol/Itin-Python/blob/main/Aula03_Itin_.ipynb\" target=\"_parent\"><img src=\"https://colab.research.google.com/assets/colab-badge.svg\" alt=\"Open In Colab\"/></a>"
      ]
    },
    {
      "cell_type": "code",
      "execution_count": 5,
      "metadata": {
        "colab": {
          "base_uri": "https://localhost:8080/"
        },
        "id": "vyMExJvHFCxU",
        "outputId": "93d19bf9-94e4-49f5-f2e1-52d0f9f3f322"
      },
      "outputs": [
        {
          "output_type": "stream",
          "name": "stdout",
          "text": [
            "Olá! Por favor, inserir seu nome de usuário e senha.\n",
            "Nome de usuário: nome3\n",
            "Senha: senha2\n",
            "Login concluído!\n"
          ]
        }
      ],
      "source": [
        "# 1. Escreva um programa que simule um sistema de login. O programa deve solicitar ao usuário que insira um nome de usuário e uma senha. Em seguida, verifica se o nome de usuário e a senha fornecidos estão dentro de listas predefinidas de 5 usuários e 5 senhas. Se o nome de usuário e a senha estiverem corretos, o programa deve imprimir \"Login concluído\". Caso contrário, deveimprimir \"Usuário ou senha inválido\".\n",
        "\n",
        "nomes_salvos = [\"nome1\", \"nome2\", \"nome3\", \"nome4\", \"nome5\"]\n",
        "senhas_salvas = [\"senha1\", \"senha2\", \"senha3\", \"senha4\", \"senha5\"]\n",
        "\n",
        "print(\"Olá! Por favor, inserir seu nome de usuário e senha.\")\n",
        "usuario = input(\"Nome de usuário: \")\n",
        "senha = input(\"Senha: \")\n",
        "\n",
        "if usuario in nomes_salvos and senha in senhas_salvas:\n",
        "  print(\"Login concluído!\")\n",
        "else:\n",
        "  print(\"Usuário ou senha inválido\")"
      ]
    },
    {
      "cell_type": "code",
      "source": [
        "# 2. Escreva um programa que solicite ao usuário para inserir cinco números. O programa deve armazenar esses números em uma lista. Em seguida, o programa deve pedir ao usuário para inserir um número adicional. Se este número adicional já estiver na lista, o programa deve imprimir uma mensagem indicando que ele está na lista. Caso contrário, o número deve ser adicionado à lista e o programa deve imprimir a lista atualizada.\n",
        "\n",
        "print(\"Olá! Por favor, indique cinco números para formar a lista.\")\n",
        "numeros = []\n",
        "\n",
        "numero1 = int(input(\"Digite um número: \"))\n",
        "numero2 = int(input(\"Digite um número: \"))\n",
        "numero3 = int(input(\"Digite um número: \"))\n",
        "numero4 = int(input(\"Digite um número: \"))\n",
        "numero5 = int(input(\"Digite um número: \"))\n",
        "numeros.append(numero1)\n",
        "numeros.append(numero2)\n",
        "numeros.append(numero3)\n",
        "numeros.append(numero4)\n",
        "numeros.append(numero5)\n",
        "print(numeros)\n",
        "print()\n",
        "print(\"Por favor, insira mais um número\")\n",
        "\n",
        "numero6 = int(input(\"Digite um número: \"))\n",
        "if numero6 in numeros:\n",
        "  print(\"Este número já está na lista!\")\n",
        "else:\n",
        "  numeros.append(numero6)\n",
        "  print(\"Certo! Sua lista atualizada: \")\n",
        "  print(numeros)"
      ],
      "metadata": {
        "colab": {
          "base_uri": "https://localhost:8080/"
        },
        "id": "T58tJMSPH68K",
        "outputId": "5bebeddc-48fd-486b-d6b1-74d166d82811"
      },
      "execution_count": 9,
      "outputs": [
        {
          "output_type": "stream",
          "name": "stdout",
          "text": [
            "Olá! Por favor, indique cinco números para formar a lista.\n",
            "Digite um número: 1\n",
            "Digite um número: 2\n",
            "Digite um número: 3\n",
            "Digite um número: 4\n",
            "Digite um número: 5\n",
            "[1, 2, 3, 4, 5]\n",
            "\n",
            "Por favor, insira mais um número\n",
            "Digite um número: 3\n",
            "Este número já está na lista!\n"
          ]
        }
      ]
    }
  ]
}