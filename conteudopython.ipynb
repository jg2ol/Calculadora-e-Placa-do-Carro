{
  "nbformat": 4,
  "nbformat_minor": 0,
  "metadata": {
    "colab": {
      "provenance": [],
      "authorship_tag": "ABX9TyO07iNKMYygoKvgYL2vl8Fn",
      "include_colab_link": true
    },
    "kernelspec": {
      "name": "python3",
      "display_name": "Python 3"
    },
    "language_info": {
      "name": "python"
    }
  },
  "cells": [
    {
      "cell_type": "markdown",
      "metadata": {
        "id": "view-in-github",
        "colab_type": "text"
      },
      "source": [
        "<a href=\"https://colab.research.google.com/github/jg2ol/Itin-Python/blob/main/conteudopython.ipynb\" target=\"_parent\"><img src=\"https://colab.research.google.com/assets/colab-badge.svg\" alt=\"Open In Colab\"/></a>"
      ]
    },
    {
      "cell_type": "code",
      "execution_count": null,
      "metadata": {
        "colab": {
          "base_uri": "https://localhost:8080/"
        },
        "id": "J3ew88T04bHC",
        "outputId": "6f09f621-a061-4565-fe6b-d859979bb6e4"
      },
      "outputs": [
        {
          "output_type": "stream",
          "name": "stdout",
          "text": [
            "Olá, meu nome é João e tenho 25 anos.\n",
            "segundo, primeiro, terceiro\n",
            "Meu nome é Jose e tenho 25 anos.\n",
            "Número inteiro: 42, Número de ponto flutuante 5.12\n",
            "Nome: Alice      | Idade:    30\n"
          ]
        }
      ],
      "source": [
        "# .format\n",
        "\n",
        "nome = \"João\"\n",
        "idade = 25\n",
        "frase = \"Olá, meu nome é {} e tenho {} anos.\".format(nome, idade)\n",
        "print(frase)\n",
        "\n",
        "#índices\n",
        "frase = \"{1}, {0}, {2}\".format(\"primeiro\", \"segundo\", \"terceiro\")\n",
        "print(frase)\n",
        "\n",
        "#atribuição à variáveis\n",
        "frase = \"Meu nome é {nome} e tenho {idade} anos.\".format(nome=\"Jose\", idade=25)\n",
        "print(frase)\n",
        "\n",
        "#formatação de tipo\n",
        "numero_inteiro = 42\n",
        "numero_ponto_flutuante = 5.1234              #quant. de casas após a vírgula\n",
        "frase = \"Número inteiro: {:d}, Número de ponto flutuante {:.2f}\".format(numero_inteiro, numero_ponto_flutuante)\n",
        "print(frase)\n",
        "\n",
        "#espaçamento\n",
        "nome = \"Alice\"\n",
        "idade = 30  #p/ a direita    p/ a esquerda\n",
        "frase = \"Nome: {:<10} | Idade: {:>5}\".format(nome, idade)\n",
        "print(frase)"
      ]
    },
    {
      "cell_type": "code",
      "source": [
        "# F-strings (formatação literal de strings)\n",
        "\n",
        "valor = 42\n",
        "frase = f\"O dobro de {valor} é {valor*2}, e o triplo é {valor*3}.\" #coloca-se \"f\" ou \"F\" antes da expressão e fora das aspas\n",
        "print(frase)\n",
        "\n",
        "#permite todas as características do .format, porém é mais flexível, mais recente\n",
        "#procura as variáveis atribuídas em todo o código"
      ],
      "metadata": {
        "colab": {
          "base_uri": "https://localhost:8080/"
        },
        "id": "3S2ut0kO8oua",
        "outputId": "094ad834-3284-416f-8501-d65253b1d6f6"
      },
      "execution_count": null,
      "outputs": [
        {
          "output_type": "stream",
          "name": "stdout",
          "text": [
            "O dobro de 42 é 84, e o triplo é 126.\n"
          ]
        }
      ]
    },
    {
      "cell_type": "code",
      "source": [
        "# Listas\n",
        "\n",
        "#len(lista) é quantidade de elementos dentro da lista; (índice do último elemento + 1)\n",
        "texto = \"Olá, mundo!\"\n",
        "print(len(texto))\n",
        "\n",
        "idade = [16, 23, 25, 27, 35]\n",
        "i = 0\n",
        "while i < len(idade):\n",
        "  print(f\"Elemento de índice {i} = {idade[i]}\")\n",
        "  i = i + 1\n",
        "\n",
        "#adicionando elementos no final da lista\n",
        "idade.append(37)\n",
        "print(idade)\n",
        "\n",
        "#criando uma lista a partir de uma vazia\n",
        "numeros = []\n",
        "numero1 = int(input(\"Digite um número: \"))\n",
        "numero2 = int(input(\"Digite um número: \"))\n",
        "numero3 = int(input(\"Digite um número: \"))\n",
        "numeros.append(numero1)\n",
        "numeros.append(numero2)\n",
        "numeros.append(numero3)\n",
        "print(numeros)\n",
        "\n",
        "#união de listas / deletando itens da lista\n",
        "idade.extend(numeros)\n",
        "del idade[1]\n",
        "del idade[6]\n",
        "print(idade)"
      ],
      "metadata": {
        "colab": {
          "base_uri": "https://localhost:8080/"
        },
        "id": "6HcfERoA-XLF",
        "outputId": "936aeb60-96b4-4e69-e2b1-b525e4c60972"
      },
      "execution_count": null,
      "outputs": [
        {
          "output_type": "stream",
          "name": "stdout",
          "text": [
            "11\n",
            "Elemento de índice 0 = 16\n",
            "Elemento de índice 1 = 23\n",
            "Elemento de índice 2 = 25\n",
            "Elemento de índice 3 = 27\n",
            "Elemento de índice 4 = 35\n",
            "[16, 23, 25, 27, 35, 37]\n",
            "Digite um número: 1\n",
            "Digite um número: 2\n",
            "Digite um número: 3\n",
            "[1, 2, 3]\n",
            "[16, 25, 27, 35, 37, 1, 3]\n"
          ]
        }
      ]
    },
    {
      "cell_type": "code",
      "source": [
        "#\"in\" verifica se tal elemento está na lista\n",
        "lista = [\"Maçã\", \"Banana\", \"Pêra\"]\n",
        "if \"Maçã\" in lista:\n",
        "  print(\"Maçã está na lista\")\n",
        "else:\n",
        "  print(\"Maçã não está na lista\")"
      ],
      "metadata": {
        "colab": {
          "base_uri": "https://localhost:8080/"
        },
        "id": "YJ1mqinBGpcL",
        "outputId": "f61eab23-7a28-4240-c287-71a7b37d7fec"
      },
      "execution_count": null,
      "outputs": [
        {
          "output_type": "stream",
          "name": "stdout",
          "text": [
            "Maçã está na lista\n"
          ]
        }
      ]
    },
    {
      "cell_type": "code",
      "source": [
        "#guardando as propriedades de um dicionário em variáveis\n",
        "estoque_frutas = {\"maçã\": 10, \"banana\": 5, \"laranja\": 8, \"uva\": 15}\n",
        "\n",
        "quantidades = estoque_frutas.values()\n",
        "keys = estoque_frutas.keys()\n",
        "\n",
        "print(quantidades)\n",
        "print(keys)"
      ],
      "metadata": {
        "colab": {
          "base_uri": "https://localhost:8080/"
        },
        "id": "-Cy4MpABPdek",
        "outputId": "19862e4f-893c-445f-ef97-b8b822cb69d6"
      },
      "execution_count": 6,
      "outputs": [
        {
          "output_type": "stream",
          "name": "stdout",
          "text": [
            "dict_values([10, 5, 8, 15])\n",
            "dict_keys(['maçã', 'banana', 'laranja', 'uva'])\n"
          ]
        }
      ]
    },
    {
      "cell_type": "code",
      "source": [
        "#podemos calcular a soma das chaves caso estas forem inteiros\n",
        "dic = {2: 10, 3: 5, 4: 8, 5: 15}\n",
        "valores = dic.values()\n",
        "chaves = dic.keys()\n",
        "\n",
        "#variável que carrega o valor da soma\n",
        "soma = sum(chaves)\n",
        "#variável que carrega os pares ordenados (key, value)\n",
        "itens = dic.items()\n",
        "\n",
        "print(soma)\n",
        "print(itens)"
      ],
      "metadata": {
        "colab": {
          "base_uri": "https://localhost:8080/"
        },
        "id": "7khm_7R9QFhk",
        "outputId": "037b4aca-77cd-4923-871d-ba8045eaa835"
      },
      "execution_count": 7,
      "outputs": [
        {
          "output_type": "stream",
          "name": "stdout",
          "text": [
            "14\n",
            "dict_items([(2, 10), (3, 5), (4, 8), (5, 15)])\n"
          ]
        }
      ]
    },
    {
      "cell_type": "code",
      "source": [
        "#adicionando itens ao dicionário\n",
        "dic2 = {\"chama1\": 1, \"chama2\": 2, \"chama3\": 3, \"chama4\": 4, \"chama5\": 5}\n",
        "\n",
        "chave_nova = \"chama6\"\n",
        "valor_novo = 6\n",
        "dic2[chave_nova] = valor_novo\n",
        "\n",
        "#deletando um item específico do dicionário\n",
        "del dic2[\"chama2\"]\n",
        "\n",
        "itens = dic2.items()\n",
        "print(itens)"
      ],
      "metadata": {
        "colab": {
          "base_uri": "https://localhost:8080/"
        },
        "id": "3Tf0h_uOR2aT",
        "outputId": "9f8b3cc9-aeb7-4f68-ebc7-45c940284180"
      },
      "execution_count": 18,
      "outputs": [
        {
          "output_type": "stream",
          "name": "stdout",
          "text": [
            "dict_items([('chama1', 1), ('chama3', 3), ('chama4', 4), ('chama5', 5), ('chama6', 6)])\n"
          ]
        }
      ]
    },
    {
      "cell_type": "code",
      "source": [
        "#acessando o valor de uma chave específica\n",
        "capitais = {\"Brasil\": \"Brasília\", \"Alemanha\": \"Berlim\", \"Japão\": \"Tóquio\"}\n",
        "capital_brasil = capitais[\"Brasil\"]\n",
        "print(capital_brasil)"
      ],
      "metadata": {
        "colab": {
          "base_uri": "https://localhost:8080/"
        },
        "id": "LVPnWdYaiMUm",
        "outputId": "d3da7a48-6a5b-4813-9954-1c2468e2488f"
      },
      "execution_count": 19,
      "outputs": [
        {
          "output_type": "stream",
          "name": "stdout",
          "text": [
            "Brasília\n"
          ]
        }
      ]
    },
    {
      "cell_type": "code",
      "source": [
        "#se a chave não estiver presente\n",
        "telefones = {\"ana\": 12345678, \"yudi\": 40028922, \"julia\": 81624748}\n",
        "\n",
        "if \"telefone_andre\" in telefones:\n",
        "  telefone_andre = telefones[\"andre\"]\n",
        "  print(telefone_andre)\n",
        "else:\n",
        "  print(\"Este telefone não está no dicionário\")"
      ],
      "metadata": {
        "colab": {
          "base_uri": "https://localhost:8080/"
        },
        "id": "JE3DWep4iGFp",
        "outputId": "0d75b615-f37c-431e-983c-dba3a31993bd"
      },
      "execution_count": 21,
      "outputs": [
        {
          "output_type": "stream",
          "name": "stdout",
          "text": [
            "Este telefone não está no dicionário\n"
          ]
        }
      ]
    }
  ]
}