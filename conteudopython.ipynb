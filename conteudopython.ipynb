{
  "nbformat": 4,
  "nbformat_minor": 0,
  "metadata": {
    "colab": {
      "provenance": [],
      "authorship_tag": "ABX9TyNyFVC33z+uA+4Xw6oYkyn0",
      "include_colab_link": true
    },
    "kernelspec": {
      "name": "python3",
      "display_name": "Python 3"
    },
    "language_info": {
      "name": "python"
    }
  },
  "cells": [
    {
      "cell_type": "markdown",
      "metadata": {
        "id": "view-in-github",
        "colab_type": "text"
      },
      "source": [
        "<a href=\"https://colab.research.google.com/github/jg2ol/Itin-Python/blob/main/conteudopython.ipynb\" target=\"_parent\"><img src=\"https://colab.research.google.com/assets/colab-badge.svg\" alt=\"Open In Colab\"/></a>"
      ]
    },
    {
      "cell_type": "markdown",
      "source": [
        "# .format\n",
        "\n",
        "nome = \"João\"\n",
        "idade = 25\n",
        "frase = \"Olá, meu nome é {} e tenho {} anos.\".format(nome, idade)\n",
        "print(frase)\n",
        "\n",
        "#índices\n",
        "frase = \"{1}, {0}, {2}\".format(\"primeiro\", \"segundo\", \"terceiro\")\n",
        "print(frase)\n",
        "\n",
        "#atribuição à variáveis\n",
        "frase = \"Meu nome é {nome} e tenho {idade} anos.\".format(nome=\"Jose\", idade=25)\n",
        "print(frase)\n",
        "\n",
        "#formatação de tipo\n",
        "numero_inteiro = 42\n",
        "numero_ponto_flutuante = 5.1234              #quant. de casas após a vírgula\n",
        "frase = \"Número inteiro: {:d}, Número de ponto flutuante {:.2f}\".format(numero_inteiro, numero_ponto_flutuante)\n",
        "print(frase)\n",
        "\n",
        "#espaçamento\n",
        "nome = \"Alice\"\n",
        "idade = 30  #p/ a direita    p/ a esquerda\n",
        "frase = \"Nome: {:<10} | Idade: {:>5}\".format(nome, idade)\n",
        "print(frase)"
      ],
      "metadata": {
        "id": "J3ew88T04bHC"
      }
    },
    {
      "cell_type": "code",
      "source": [
        "#.format\n",
        "nome = \"João\"\n",
        "idade = 25\n",
        "frase = \"Olá, meu nome é {} e tenho {} anos.\".format(nome, idade)\n",
        "print(frase)\n",
        "\n",
        "#atribuição à variáveis\n",
        "frase = \"Meu nome é {nome} e tenho {idade} anos.\".format(nome=\"Jose\", idade=25)\n",
        "print(frase)\n",
        "\n",
        "#índices\n",
        "frase = \"{1}, {0}, {2}\".format(\"primeiro\", \"segundo\", \"terceiro\")\n",
        "print(frase)\n",
        "\n",
        "#formatação de tipo\n",
        "numero_inteiro = 42\n",
        "numero_ponto_flutuante = 5.1234\n",
        "#quant. de casas após a vírgula frase = \"Número inteiro: {:d}, Número de ponto flutuante {:.2f}\".format(numero_inteiro, numero_ponto_flutuante) print(frase)\n",
        "\n",
        "#espaçamento\n",
        "nome = \"Alice\"\n",
        "idade = 30 #p/ a direita p/ a esquerda frase = \"Nome: {:<10} | Idade: {:>5}\".format(nome, idade) print(frase)"
      ],
      "metadata": {
        "id": "m7pAjKwvBq__",
        "colab": {
          "base_uri": "https://localhost:8080/"
        },
        "outputId": "35dc8cd0-f0d5-46ed-85c2-e40e37e07643"
      },
      "execution_count": 3,
      "outputs": [
        {
          "output_type": "stream",
          "name": "stdout",
          "text": [
            "Olá, meu nome é João e tenho 25 anos.\n",
            "segundo, primeiro, terceiro\n",
            "Meu nome é Jose e tenho 25 anos.\n"
          ]
        }
      ]
    },
    {
      "cell_type": "code",
      "source": [
        "# F-strings (formatação literal de strings)\n",
        "\n",
        "valor = 42\n",
        "frase = f\"O dobro de {valor} é {valor*2}, e o triplo é {valor*3}.\" #coloca-se \"f\" ou \"F\" antes da expressão e fora das aspas\n",
        "print(frase)\n",
        "\n",
        "#permite todas as características do .format, porém é mais flexível, mais recente\n",
        "#procura as variáveis atribuídas em todo o código"
      ],
      "metadata": {
        "colab": {
          "base_uri": "https://localhost:8080/"
        },
        "id": "3S2ut0kO8oua",
        "outputId": "094ad834-3284-416f-8501-d65253b1d6f6"
      },
      "execution_count": null,
      "outputs": [
        {
          "output_type": "stream",
          "name": "stdout",
          "text": [
            "O dobro de 42 é 84, e o triplo é 126.\n"
          ]
        }
      ]
    },
    {
      "cell_type": "code",
      "source": [
        "# Listas\n",
        "\n",
        "#len(lista) é quantidade de elementos dentro da lista; (índice do último elemento + 1)\n",
        "texto = \"Olá, mundo!\"\n",
        "print(len(texto))\n",
        "\n",
        "idade = [16, 23, 25, 27, 35]\n",
        "i = 0\n",
        "while i < len(idade):\n",
        "  print(f\"Elemento de índice {i} = {idade[i]}\")\n",
        "  i = i + 1\n",
        "\n",
        "#adicionando elementos no final da lista\n",
        "idade.append(37)\n",
        "print(idade)\n",
        "\n",
        "#criando uma lista a partir de uma vazia\n",
        "numeros = []\n",
        "numero1 = int(input(\"Digite um número: \"))\n",
        "numero2 = int(input(\"Digite um número: \"))\n",
        "numero3 = int(input(\"Digite um número: \"))\n",
        "numeros.append(numero1)\n",
        "numeros.append(numero2)\n",
        "numeros.append(numero3)\n",
        "print(numeros)\n",
        "\n",
        "#união de listas / deletando itens da lista\n",
        "idade.extend(numeros)\n",
        "del idade[1]\n",
        "del idade[6]\n",
        "print(idade)"
      ],
      "metadata": {
        "colab": {
          "base_uri": "https://localhost:8080/"
        },
        "id": "6HcfERoA-XLF",
        "outputId": "936aeb60-96b4-4e69-e2b1-b525e4c60972"
      },
      "execution_count": null,
      "outputs": [
        {
          "output_type": "stream",
          "name": "stdout",
          "text": [
            "11\n",
            "Elemento de índice 0 = 16\n",
            "Elemento de índice 1 = 23\n",
            "Elemento de índice 2 = 25\n",
            "Elemento de índice 3 = 27\n",
            "Elemento de índice 4 = 35\n",
            "[16, 23, 25, 27, 35, 37]\n",
            "Digite um número: 1\n",
            "Digite um número: 2\n",
            "Digite um número: 3\n",
            "[1, 2, 3]\n",
            "[16, 25, 27, 35, 37, 1, 3]\n"
          ]
        }
      ]
    },
    {
      "cell_type": "code",
      "source": [
        "#\"in\" verifica se tal elemento está na lista\n",
        "lista = [\"Maçã\", \"Banana\", \"Pêra\"]\n",
        "if \"Maçã\" in lista:\n",
        "  print(\"Maçã está na lista\")\n",
        "else:\n",
        "  print(\"Maçã não está na lista\")"
      ],
      "metadata": {
        "colab": {
          "base_uri": "https://localhost:8080/"
        },
        "id": "YJ1mqinBGpcL",
        "outputId": "f61eab23-7a28-4240-c287-71a7b37d7fec"
      },
      "execution_count": null,
      "outputs": [
        {
          "output_type": "stream",
          "name": "stdout",
          "text": [
            "Maçã está na lista\n"
          ]
        }
      ]
    },
    {
      "cell_type": "code",
      "source": [
        "#guardando as propriedades de um dicionário em variáveis\n",
        "estoque_frutas = {\"maçã\": 10, \"banana\": 5, \"laranja\": 8, \"uva\": 15}\n",
        "\n",
        "quantidades = estoque_frutas.values()\n",
        "keys = estoque_frutas.keys()\n",
        "\n",
        "print(quantidades)\n",
        "print(keys)"
      ],
      "metadata": {
        "colab": {
          "base_uri": "https://localhost:8080/"
        },
        "id": "-Cy4MpABPdek",
        "outputId": "19862e4f-893c-445f-ef97-b8b822cb69d6"
      },
      "execution_count": null,
      "outputs": [
        {
          "output_type": "stream",
          "name": "stdout",
          "text": [
            "dict_values([10, 5, 8, 15])\n",
            "dict_keys(['maçã', 'banana', 'laranja', 'uva'])\n"
          ]
        }
      ]
    },
    {
      "cell_type": "code",
      "source": [
        "#podemos calcular a soma das chaves caso estas forem inteiros\n",
        "dic = {2: 10, 3: 5, 4: 8, 5: 15}\n",
        "valores = dic.values()\n",
        "chaves = dic.keys()\n",
        "\n",
        "#variável que carrega o valor da soma\n",
        "soma = sum(chaves)\n",
        "#variável que carrega os pares ordenados (key, value)\n",
        "itens = dic.items()\n",
        "\n",
        "print(soma)\n",
        "print(itens)"
      ],
      "metadata": {
        "colab": {
          "base_uri": "https://localhost:8080/"
        },
        "id": "7khm_7R9QFhk",
        "outputId": "037b4aca-77cd-4923-871d-ba8045eaa835"
      },
      "execution_count": null,
      "outputs": [
        {
          "output_type": "stream",
          "name": "stdout",
          "text": [
            "14\n",
            "dict_items([(2, 10), (3, 5), (4, 8), (5, 15)])\n"
          ]
        }
      ]
    },
    {
      "cell_type": "code",
      "source": [
        "#adicionando itens ao dicionário\n",
        "dic2 = {\"chama1\": 1, \"chama2\": 2, \"chama3\": 3, \"chama4\": 4, \"chama5\": 5}\n",
        "\n",
        "chave_nova = \"chama6\"\n",
        "valor_novo = 6\n",
        "dic2[chave_nova] = valor_novo\n",
        "\n",
        "#deletando um item específico do dicionário\n",
        "del dic2[\"chama2\"]\n",
        "\n",
        "itens = dic2.items()\n",
        "print(itens)"
      ],
      "metadata": {
        "colab": {
          "base_uri": "https://localhost:8080/"
        },
        "id": "3Tf0h_uOR2aT",
        "outputId": "9f8b3cc9-aeb7-4f68-ebc7-45c940284180"
      },
      "execution_count": null,
      "outputs": [
        {
          "output_type": "stream",
          "name": "stdout",
          "text": [
            "dict_items([('chama1', 1), ('chama3', 3), ('chama4', 4), ('chama5', 5), ('chama6', 6)])\n"
          ]
        }
      ]
    },
    {
      "cell_type": "code",
      "source": [
        "#acessando o valor de uma chave específica\n",
        "capitais = {\"Brasil\": \"Brasília\", \"Alemanha\": \"Berlim\", \"Japão\": \"Tóquio\"}\n",
        "capital_brasil = capitais[\"Brasil\"]\n",
        "print(capital_brasil)"
      ],
      "metadata": {
        "colab": {
          "base_uri": "https://localhost:8080/"
        },
        "id": "LVPnWdYaiMUm",
        "outputId": "d3da7a48-6a5b-4813-9954-1c2468e2488f"
      },
      "execution_count": null,
      "outputs": [
        {
          "output_type": "stream",
          "name": "stdout",
          "text": [
            "Brasília\n"
          ]
        }
      ]
    },
    {
      "cell_type": "code",
      "source": [
        "#se a chave não estiver presente\n",
        "telefones = {\"ana\": 12345678, \"yudi\": 40028922, \"julia\": 81624748}\n",
        "\n",
        "if \"telefone_andre\" in telefones:\n",
        "  telefone_andre = telefones[\"andre\"]\n",
        "  print(telefone_andre)\n",
        "else:\n",
        "  print(\"Este telefone não está no dicionário\")"
      ],
      "metadata": {
        "colab": {
          "base_uri": "https://localhost:8080/"
        },
        "id": "JE3DWep4iGFp",
        "outputId": "0d75b615-f37c-431e-983c-dba3a31993bd"
      },
      "execution_count": null,
      "outputs": [
        {
          "output_type": "stream",
          "name": "stdout",
          "text": [
            "Este telefone não está no dicionário\n"
          ]
        }
      ]
    },
    {
      "cell_type": "code",
      "source": [
        "#break\n",
        "for i in range(5):\n",
        "  if (i < 3):\n",
        "    print(\"Número: \", i)\n",
        "  else:\n",
        "    break"
      ],
      "metadata": {
        "colab": {
          "base_uri": "https://localhost:8080/"
        },
        "id": "ZtB6yNK8CzWm",
        "outputId": "924612cb-effa-4586-e004-d2beb606fdc2"
      },
      "execution_count": 7,
      "outputs": [
        {
          "output_type": "stream",
          "name": "stdout",
          "text": [
            "Número:  0\n",
            "Número:  1\n",
            "Número:  2\n"
          ]
        }
      ]
    },
    {
      "cell_type": "code",
      "source": [
        "lista = [1, 2, 3, 4, 5]\n",
        "for item in lista:\n",
        "  if item % 2 == 0:\n",
        "    pass\n",
        "  else:\n",
        "    print(\"Ímpar: \", item)"
      ],
      "metadata": {
        "colab": {
          "base_uri": "https://localhost:8080/"
        },
        "id": "CtF7oKxTDqFn",
        "outputId": "2a7a78b6-6371-49a6-8560-8664e6aca6dc"
      },
      "execution_count": 25,
      "outputs": [
        {
          "output_type": "stream",
          "name": "stdout",
          "text": [
            "Ímpar:  1\n",
            "Ímpar:  3\n",
            "Ímpar:  5\n"
          ]
        }
      ]
    },
    {
      "cell_type": "code",
      "source": [
        "frutas_estoque = {'Abacaxí': 10, 'Morango': 20, 'Uva': 15}\n",
        "for fruta, quantidade in frutas_estoque.items():\n",
        "  print(f'Fruta: {fruta}, Quantidade: {quantidade}')"
      ],
      "metadata": {
        "colab": {
          "base_uri": "https://localhost:8080/"
        },
        "id": "exWflnveGPIX",
        "outputId": "8d202a88-85d5-4314-f1af-01aa2358d7e2"
      },
      "execution_count": 30,
      "outputs": [
        {
          "output_type": "stream",
          "name": "stdout",
          "text": [
            "Fruta: Uva, Quantidade: 15\n"
          ]
        }
      ]
    },
    {
      "cell_type": "code",
      "source": [
        "for numero_coluna1 in range(2, 5):\n",
        "  print(\"Tabuada do\", numero_coluna1)\n",
        "  for numero_coluna2 in range(11):\n",
        "    print(numero_coluna1, \"x\", numero_coluna2, \"=\", numero_coluna1*numero_coluna2)"
      ],
      "metadata": {
        "colab": {
          "base_uri": "https://localhost:8080/"
        },
        "id": "ZvvCY3PWGkdg",
        "outputId": "63a28377-0271-4296-d747-9d573f1de48d"
      },
      "execution_count": 34,
      "outputs": [
        {
          "output_type": "stream",
          "name": "stdout",
          "text": [
            "Tabuada do 2\n",
            "2 x 0 = 0\n",
            "2 x 1 = 2\n",
            "2 x 2 = 4\n",
            "2 x 3 = 6\n",
            "2 x 4 = 8\n",
            "2 x 5 = 10\n",
            "2 x 6 = 12\n",
            "2 x 7 = 14\n",
            "2 x 8 = 16\n",
            "2 x 9 = 18\n",
            "2 x 10 = 20\n",
            "Tabuada do 3\n",
            "3 x 0 = 0\n",
            "3 x 1 = 3\n",
            "3 x 2 = 6\n",
            "3 x 3 = 9\n",
            "3 x 4 = 12\n",
            "3 x 5 = 15\n",
            "3 x 6 = 18\n",
            "3 x 7 = 21\n",
            "3 x 8 = 24\n",
            "3 x 9 = 27\n",
            "3 x 10 = 30\n",
            "Tabuada do 4\n",
            "4 x 0 = 0\n",
            "4 x 1 = 4\n",
            "4 x 2 = 8\n",
            "4 x 3 = 12\n",
            "4 x 4 = 16\n",
            "4 x 5 = 20\n",
            "4 x 6 = 24\n",
            "4 x 7 = 28\n",
            "4 x 8 = 32\n",
            "4 x 9 = 36\n",
            "4 x 10 = 40\n"
          ]
        }
      ]
    }
  ]
}