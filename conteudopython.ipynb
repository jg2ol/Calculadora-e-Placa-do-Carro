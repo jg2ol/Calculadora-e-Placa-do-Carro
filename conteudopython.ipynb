{
  "nbformat": 4,
  "nbformat_minor": 0,
  "metadata": {
    "colab": {
      "provenance": [],
      "authorship_tag": "ABX9TyNBtE7Uj/FP6UcggGu1IqSL",
      "include_colab_link": true
    },
    "kernelspec": {
      "name": "python3",
      "display_name": "Python 3"
    },
    "language_info": {
      "name": "python"
    }
  },
  "cells": [
    {
      "cell_type": "markdown",
      "metadata": {
        "id": "view-in-github",
        "colab_type": "text"
      },
      "source": [
        "<a href=\"https://colab.research.google.com/github/jg2ol/Itin-Python/blob/main/conteudopython.ipynb\" target=\"_parent\"><img src=\"https://colab.research.google.com/assets/colab-badge.svg\" alt=\"Open In Colab\"/></a>"
      ]
    },
    {
      "cell_type": "markdown",
      "source": [
        "**Arquivo criado p/ armazenamento e utilidades de conteúdo em python**"
      ],
      "metadata": {
        "id": "dNh2vUv5xjr2"
      }
    },
    {
      "cell_type": "code",
      "source": [
        "# Primeiros códigos e técnicas em python\n",
        "\n",
        "# Estrutura condicional, método if, elif, else\n",
        "a = 5\n",
        "if a < 4:\n",
        "  print(f\"O número {a} é menor do que 4\")\n",
        "elif a == 4:\n",
        "  print(f\"O número {a} é igual a 4\")\n",
        "else:\n",
        "  print(f\"O número {a} é maior do que 4\")\n",
        "\n",
        "b = 1\n",
        "if b < 2:\n",
        "  print(f\"O número {b} é menor do que 2.\")\n",
        "elif b < 4:\n",
        "  print(f\"O número {b} é menor do que 4\")\n",
        "# em caso de duas condições ocorrerem, a \"mais próxima\" é a que vai ocorrer\n",
        "\n",
        "# Verifacação de presença, operador \"in\"\n",
        "if \"a\" in \"Maçã\":\n",
        "  print(\"A letra a aparece na palavra Maçã.\")\n",
        "else:\n",
        "  print(\"A letra a não aparece na palavra Maçã.\")\n",
        "\n",
        "print()\n",
        "\n",
        "# Estruturas de repetição\n",
        "\n",
        "# operador \"while\"\n",
        "i = 0\n",
        "while i < 5:\n",
        "  print(i)\n",
        "  i = i + 1\n",
        "\n",
        "# operador \"for\"\n",
        "for x in \"Maçã\":\n",
        "  print(x)\n",
        "\n",
        "for x in range(2, 6):\n",
        "  print(x)\n",
        "\n",
        "frutas = [\"maçã\", \"banana\", \"cereja\"]\n",
        "for x in frutas:\n",
        "  print(x)\n",
        "\n",
        "# uso do zip() em for, faz as variáveis percorrerem listas independentemente\n",
        "a = [1, 2, 3, 4]\n",
        "b = [5, 6, 7, 8]\n",
        "for x, y in zip(a, b):\n",
        "  print(x, y)\n",
        "\n",
        "# uso do range() em for, range(n) faz a variável temporária percorrer os valores de 0 até (n-1)\n",
        "for numero in range(10):\n",
        "  if numero % 2 == 0:\n",
        "    print(\"O número\", numero, \"é par\")\n",
        "  else:\n",
        "    print(\"O número\", numero, \"é ímpar\")\n",
        "\n",
        "# range(a, b, c) => i vai de a até (b-1) passo c; reversed() inverte a ordem dos elementos\n",
        "for i in reversed(range(1, 10, 2)):\n",
        "    print(i)\n",
        "\n",
        "# também permite a utilização do comando else\n",
        "cores = ['Vermelho', 'Verde', 'Azul', 'Amarelo']\n",
        "for cor in cores:\n",
        "  print(cor)\n",
        "else:\n",
        "  print(\"Iteração concluída.\")\n",
        "\n",
        "# podemos quebrar uma estrutura de repetição num determinado ponto utilizando o método \"break\"\n",
        "n = 4\n",
        "while n <= 10:\n",
        "  if n == 7:\n",
        "    print(n)\n",
        "    n = n + 1\n",
        "    break\n",
        "  else:\n",
        "    print(n)\n",
        "    n = n + 1\n",
        "\n",
        "# set(), todos os elementos diferentes dentro de uma estrutura\n",
        "a = set('abracadabra')\n",
        "b = set('alacazam')\n",
        "print(a)                                  #todas as letras diferentes de a\n",
        "print(b)                                  #todas as letras diferentes de b\n",
        "print(a - b)                              #letras em a mas não em b\n",
        "print(a | b)                              #a união b\n",
        "print(a & b)                              #letras em a e b\n",
        "print(a ^ b)                              #em a ou n mas não em ambos\n",
        "\n",
        "print()\n",
        "\n",
        "A = {x for x in 'abracadabra' if x not in 'abc'}\n",
        "print(A)"
      ],
      "metadata": {
        "colab": {
          "base_uri": "https://localhost:8080/"
        },
        "id": "h8OIcQlf9XvD",
        "outputId": "31fd6eaf-4b93-4a76-b282-5e8056aaf96d"
      },
      "execution_count": null,
      "outputs": [
        {
          "output_type": "stream",
          "name": "stdout",
          "text": [
            "O número 5 é maior do que 4\n",
            "O número 1 é menor do que 2.\n",
            "A letra a aparece na palavra Maçã.\n",
            "\n",
            "0\n",
            "1\n",
            "2\n",
            "3\n",
            "4\n",
            "M\n",
            "a\n",
            "ç\n",
            "ã\n",
            "2\n",
            "3\n",
            "4\n",
            "5\n",
            "maçã\n",
            "banana\n",
            "cereja\n",
            "1 5\n",
            "2 6\n",
            "3 7\n",
            "4 8\n",
            "O número 0 é par\n",
            "O número 1 é ímpar\n",
            "O número 2 é par\n",
            "O número 3 é ímpar\n",
            "O número 4 é par\n",
            "O número 5 é ímpar\n",
            "O número 6 é par\n",
            "O número 7 é ímpar\n",
            "O número 8 é par\n",
            "O número 9 é ímpar\n",
            "9\n",
            "7\n",
            "5\n",
            "3\n",
            "1\n",
            "Vermelho\n",
            "Verde\n",
            "Azul\n",
            "Amarelo\n",
            "Iteração concluída.\n",
            "4\n",
            "5\n",
            "6\n",
            "7\n",
            "{'c', 'd', 'a', 'r', 'b'}\n",
            "{'c', 'l', 'z', 'a', 'm'}\n",
            "{'r', 'b', 'd'}\n",
            "{'c', 'd', 'l', 'z', 'a', 'b', 'r', 'm'}\n",
            "{'c', 'a'}\n",
            "{'b', 'l', 'd', 'z', 'r', 'm'}\n",
            "\n",
            "{'d', 'r'}\n"
          ]
        }
      ]
    },
    {
      "cell_type": "code",
      "source": [
        "# uso do for p/ criação de matrizes\n",
        "for numero_coluna1 in range(2, 5):\n",
        "  print(f\"Tabuada do {numero_coluna1}\")\n",
        "  for numero_coluna2 in range(11):\n",
        "    print(f\"{numero_coluna1} x {numero_coluna2} = {numero_coluna1*numero_coluna2}\")\n",
        "# o range(m, n) faz a variável temporária percorrer os valores de m até (n-1)"
      ],
      "metadata": {
        "colab": {
          "base_uri": "https://localhost:8080/"
        },
        "id": "ZvvCY3PWGkdg",
        "outputId": "af2eccfc-f327-429c-cb8c-30eb287fd410"
      },
      "execution_count": null,
      "outputs": [
        {
          "output_type": "stream",
          "name": "stdout",
          "text": [
            "Tabuada do 2\n",
            "2 x 0 = 0\n",
            "2 x 1 = 2\n",
            "2 x 2 = 4\n",
            "2 x 3 = 6\n",
            "2 x 4 = 8\n",
            "2 x 5 = 10\n",
            "2 x 6 = 12\n",
            "2 x 7 = 14\n",
            "2 x 8 = 16\n",
            "2 x 9 = 18\n",
            "2 x 10 = 20\n",
            "Tabuada do 3\n",
            "3 x 0 = 0\n",
            "3 x 1 = 3\n",
            "3 x 2 = 6\n",
            "3 x 3 = 9\n",
            "3 x 4 = 12\n",
            "3 x 5 = 15\n",
            "3 x 6 = 18\n",
            "3 x 7 = 21\n",
            "3 x 8 = 24\n",
            "3 x 9 = 27\n",
            "3 x 10 = 30\n",
            "Tabuada do 4\n",
            "4 x 0 = 0\n",
            "4 x 1 = 4\n",
            "4 x 2 = 8\n",
            "4 x 3 = 12\n",
            "4 x 4 = 16\n",
            "4 x 5 = 20\n",
            "4 x 6 = 24\n",
            "4 x 7 = 28\n",
            "4 x 8 = 32\n",
            "4 x 9 = 36\n",
            "4 x 10 = 40\n"
          ]
        }
      ]
    },
    {
      "cell_type": "code",
      "source": [
        "# Concatenação, junção de strings p/ formação de outra string\n",
        "nome1 = \"Alice\"\n",
        "idade1 = 30\n",
        "concatenacao = \"Meu nome é \" + nome1 + \" e tenho \" + str(idade1) + \" anos.\"\n",
        "print(concatenacao)\n",
        "\n",
        "# o \"+\" permite juntarmos variáveis sem espaços\n",
        "a = \"Joso Leirbag\"\n",
        "b = 16\n",
        "c = \"Chama\"\n",
        "d = \"1\"*20\n",
        "frase1 = \"Juntando tudo: \" + a + str(b) + c + d\n",
        "print(frase1)"
      ],
      "metadata": {
        "colab": {
          "base_uri": "https://localhost:8080/"
        },
        "id": "LCjhMBlFwZ4n",
        "outputId": "1642803f-78b9-4f94-af74-1c72e94da7dd"
      },
      "execution_count": null,
      "outputs": [
        {
          "output_type": "stream",
          "name": "stdout",
          "text": [
            "Meu nome é Alice e tenho 30 anos.\n",
            "Juntando tudo: Joso Leirbag16Chama11111111111111111111\n"
          ]
        }
      ]
    },
    {
      "cell_type": "code",
      "source": [
        "# Interpolação de strings, método .format ou f-strings\n",
        "\n",
        "# .format, introdução de variáveis dentro de uma string\n",
        "nome1 = \"João\"\n",
        "idade1 = 25\n",
        "frase1 = \"Olá, meu nome é {} e tenho {} anos.\"\n",
        "format_frase = frase1.format(nome1, idade1)\n",
        "print(format_frase)\n",
        "\n",
        "# índices, com eles podemos determinar a posição da variável que vai entrar nas respectivas chaves\n",
        "frase2 = \"Olá, meu nome é {1} e tenho {0} anos.\".format(nome1, idade1)\n",
        "print(frase2)\n",
        "\n",
        "print()\n",
        "\n",
        "# Formatação dentro do .format\n",
        "\n",
        "# número de casas decimais de um dado número\n",
        "numero_inteiro = 42\n",
        "numero_ponto_flutuante = 5.1234\n",
        "frase3 = \"Número inteiro: {:d}, Número de ponto flutuante {:.2f}\".format(numero_inteiro, numero_ponto_flutuante)\n",
        "print(frase3)\n",
        "\n",
        "# número de espaços à direita e sequerda, respectivamente\n",
        "nome2 = \"Alice\"\n",
        "idade2 = 30\n",
        "frase = \"Nome: {:<10} | Idade: {:>5}\".format(nome2, idade2)\n",
        "print(frase)\n",
        "\n",
        "print()\n",
        "\n",
        "# F-strings, mesmo do .format porém inserimos o nome da variável diretamente nas chaves\n",
        "nome3 = \"Luis\"\n",
        "idade3 = 30\n",
        "frase4 = f\"Olá, meu nome é {nome3} e tenho {idade3} anos.\"\n",
        "print(frase4)\n",
        "\n",
        "# assim como no .format, podemos inserir expressões dentor das chaves\n",
        "valor = 42\n",
        "frase5 = f'O dobro de {valor} é {valor * 2}, e o triplo é {valor * 3}.'\n",
        "print(frase5)\n",
        "\n",
        "# também podemos formatar nosso texto\n",
        "nome4 = \"Ana\"\n",
        "idade4 = 25\n",
        "altura = 1.68\n",
        "frase6 = f\"Nome: {nome4}, Idade: {idade4:d}, Altura: {altura:.2f} metros.\"\n",
        "print(frase6)"
      ],
      "metadata": {
        "id": "m7pAjKwvBq__",
        "colab": {
          "base_uri": "https://localhost:8080/"
        },
        "outputId": "0a210aaa-070b-4cac-dd17-b6451d1604f6"
      },
      "execution_count": null,
      "outputs": [
        {
          "output_type": "stream",
          "name": "stdout",
          "text": [
            "Olá, meu nome é João e tenho 25 anos.\n",
            "Olá, meu nome é 25 e tenho João anos.\n",
            "\n",
            "Número inteiro: 42, Número de ponto flutuante 5.12\n",
            "Nome: Alice      | Idade:    30\n",
            "\n",
            "Olá, meu nome é Luis e tenho 30 anos.\n",
            "O dobro de 42 é 84, e o triplo é 126.\n",
            "Nome: Ana, Idade: 25, Altura: 1.68 metros.\n"
          ]
        }
      ]
    },
    {
      "cell_type": "code",
      "source": [
        "# Manipulação de strings\n",
        "\n",
        "texto1 = \"TExTo com minúsculas e MAIÚSCUlas.\"\n",
        "print(f\"Texto original: {texto1}\")\n",
        "\n",
        "print()\n",
        "\n",
        "# .lower(), deixa a string toda em minúsculas\n",
        "minus_texto1 = texto1.lower()\n",
        "print(f\"Texto em minúsculas: {minus_texto1}\")\n",
        "\n",
        "# .upper(), deix a string toda em maiúsculas\n",
        "maius_texto1 = texto1.upper()\n",
        "print(f\"Texto em maiúsculas: {maius_texto1}\")\n",
        "\n",
        "# .capitalize(), deixa apenas o primeiro caractere em maiúscula, o restante minúscula\n",
        "capit_texto1 = texto1.capitalize()\n",
        "print(f\"Texto formatado: {capit_texto1}\")\n",
        "\n",
        "print()\n",
        "\n",
        "# .count(), conta quantas vezes uma certa string aparece dentro de outra\n",
        "palavra_chave = \"TExTo\"\n",
        "count_palavra_chave_texto1 = texto1.count(palavra_chave)\n",
        "print(f\"'{palavra_chave}' aparece {count_palavra_chave_texto1} vezes na string.\")\n",
        "\n",
        "texto_teste = \"Maria foi ao mercado comprar abóbora.\"\n",
        "count_a_texto_teste = texto_teste.count(\"a\")\n",
        "print(f\"A letra a aparece {count_a_texto_teste} vezes no texto teste.\")\n",
        "\n",
        "# .replace(), substitui uma string no lugar de outra\n",
        "subst_texto1 = texto1.replace(\"com minúsculas e MAIÚSCUlas.\", \"1\")\n",
        "print(f\"Substituindo strings: {subst_texto1}\")\n",
        "\n",
        "print()\n",
        "\n",
        "# .split(), quebra a string em \"n+1\" pedaços onde \"n\" é a quantidade de vezes que um certo separador aparece na string\n",
        "frag1, frag2, frag3, frag4, frag5 = texto1.split(\" \")\n",
        "print(f\"Palavras do texto1: '{frag1}', '{frag2}', '{frag3}', '{frag4}', '{frag5}'\")\n",
        "\n",
        "print()\n",
        "\n",
        "# .isdigit(), retorna True se a string for somente dígitos e False se não for somente de dígitos\n",
        "digit_texto1 = texto1.isdigit()\n",
        "if digit_texto1:\n",
        "  print(\"O texto1 é feito somente de núemros.\")\n",
        "else:\n",
        "  print(\"O texto1 não é feito somente de dígitos.\")\n",
        "print(f\"O .isdigit() é do tipo '{type(digit_texto1)}'\")\n",
        "\n",
        "# .isalpha(), retorna True se a string for feita somente de letras e se não tiver vazia e retorna False se não for somente de letras ou se for vazia\n",
        "alpha_texto1 = texto1.isalpha() #Verificar\n",
        "if alpha_texto1:\n",
        "  print(\"O texto1 é formado somente com letras\")\n",
        "else:\n",
        "  print(\"O texto1 não é formado apenas por letras.\")"
      ],
      "metadata": {
        "colab": {
          "base_uri": "https://localhost:8080/"
        },
        "id": "5ofs9ydHgYTo",
        "outputId": "bee681ef-78d0-4168-d055-bcdd44e46f62"
      },
      "execution_count": null,
      "outputs": [
        {
          "output_type": "stream",
          "name": "stdout",
          "text": [
            "Texto original: TExTo com minúsculas e MAIÚSCUlas.\n",
            "\n",
            "Texto em minúsculas: texto com minúsculas e maiúsculas.\n",
            "Texto em maiúsculas: TEXTO COM MINÚSCULAS E MAIÚSCULAS.\n",
            "Texto formatado: Texto com minúsculas e maiúsculas.\n",
            "\n",
            "'TExTo' aparece 1 vezes na string.\n",
            "A letra a aparece 7 vezes no texto teste.\n",
            "Substituindo strings: TExTo 1\n",
            "\n",
            "Palavras do texto1: 'TExTo', 'com', 'minúsculas', 'e', 'MAIÚSCUlas.'\n",
            "\n",
            "O texto1 não é feito somente de dígitos.\n",
            "O .isdigit() é do tipo '<class 'bool'>'\n",
            "O texto1 não é formado apenas por letras.\n"
          ]
        }
      ]
    },
    {
      "cell_type": "code",
      "source": [
        "# Listas, conjunto de informações\n",
        "\n",
        "lista1 = [1, 2, 3, 4, 5]\n",
        "print(lista1)\n",
        "for x in lista1:\n",
        "  print(x)\n",
        "\n",
        "print()\n",
        "\n",
        "# tamanho da lista, comando len(lista)\n",
        "lista2 = [\"chama1\", \"chama2\", \"chama3\", \"chama4\", \"chama5\"]\n",
        "tam_lista2 = len(lista2)\n",
        "print(f\"A lista2 possui {tam_lista2} elementos.\")\n",
        "\n",
        "len_hw = len(\"Hello world!\")\n",
        "print(f\"'Hello world!' possui {len_hw} caracteres incluindo espaços.\")\n",
        "\n",
        "# Organização das listas, índices: lista[índice]\n",
        "i1 = 0\n",
        "# i1 < tam_lista2 é suficiente p/ passo 1\n",
        "while i1 <= (tam_lista2 - 1):\n",
        "  print(f\"Elemento de índice {i1}: {lista2[i1]}\")\n",
        "  i1 = i1 + 1\n",
        "\n",
        "print()\n",
        "\n",
        "# .append(), adicionando elementos ao final de uma lista\n",
        "lista2.append(\"chama6\")\n",
        "print(lista2)\n",
        "\n",
        "# .extend(), união de listas\n",
        "lista1.extend(lista2)\n",
        "print(lista1)\n",
        "\n",
        "# del, deletando elementos de uma lista\n",
        "del lista1[10]\n",
        "print(lista1)\n",
        "\n",
        "i2 = 5\n",
        "while i2 < len(lista1):\n",
        "  del lista1[i2]\n",
        "\n",
        "print(lista1)"
      ],
      "metadata": {
        "colab": {
          "base_uri": "https://localhost:8080/"
        },
        "id": "pfWIEbfHE9qh",
        "outputId": "795869c8-24a2-4bb9-d078-31d1b7b9eddf"
      },
      "execution_count": null,
      "outputs": [
        {
          "output_type": "stream",
          "name": "stdout",
          "text": [
            "[1, 2, 3, 4, 5]\n",
            "1\n",
            "2\n",
            "3\n",
            "4\n",
            "5\n",
            "\n",
            "A lista2 possui 5 elementos.\n",
            "'Hello world!' possui 12 caracteres incluindo espaços.\n",
            "Elemento de índice 0: chama1\n",
            "Elemento de índice 1: chama2\n",
            "Elemento de índice 2: chama3\n",
            "Elemento de índice 3: chama4\n",
            "Elemento de índice 4: chama5\n",
            "\n",
            "['chama1', 'chama2', 'chama3', 'chama4', 'chama5', 'chama6']\n",
            "[1, 2, 3, 4, 5, 'chama1', 'chama2', 'chama3', 'chama4', 'chama5', 'chama6']\n",
            "[1, 2, 3, 4, 5, 'chama1', 'chama2', 'chama3', 'chama4', 'chama5']\n",
            "[1, 2, 3, 4, 5]\n"
          ]
        }
      ]
    },
    {
      "cell_type": "code",
      "source": [
        "# podemos somar os números que estão em uma lista\n",
        "lista3 = [1, 2, 3, \"chama1\", 4, 5, \"chama2\"]\n",
        "lista4 = []\n",
        "for x in lista3:\n",
        "  if type(x) == int:\n",
        "    lista4.append(x)\n",
        "\n",
        "soma_lista3 = sum(lista4)\n",
        "print(f\"A soma dos números da lista é {soma_lista3}.\")\n",
        "\n",
        "# brincando com os números dentro da lista\n",
        "for item in lista3:\n",
        "  if type(item) == int:\n",
        "    if item % 2 == 0:\n",
        "      pass\n",
        "    else:\n",
        "      print(\"Ímpar:\", item)"
      ],
      "metadata": {
        "colab": {
          "base_uri": "https://localhost:8080/"
        },
        "id": "uSC8cLllVjri",
        "outputId": "f04b41a7-b354-4f08-a17b-363fdd9f63d9"
      },
      "execution_count": null,
      "outputs": [
        {
          "output_type": "stream",
          "name": "stdout",
          "text": [
            "A soma dos números da lista é 15.\n",
            "Ímpar: 1\n",
            "Ímpar: 3\n",
            "Ímpar: 5\n"
          ]
        }
      ]
    },
    {
      "cell_type": "code",
      "source": [
        "# criando uma lista a partir de uma vazia\n",
        "numeros = []\n",
        "numero1 = int(input(\"Digite um número: \"))\n",
        "numero2 = int(input(\"Digite um número: \"))\n",
        "numero3 = int(input(\"Digite um número: \"))\n",
        "numeros.append(numero1)\n",
        "numeros.append(numero2)\n",
        "numeros.append(numero3)\n",
        "print(numeros)"
      ],
      "metadata": {
        "colab": {
          "base_uri": "https://localhost:8080/"
        },
        "id": "6HcfERoA-XLF",
        "outputId": "9660cbc4-f15e-4b19-854c-c2fe7d68c248"
      },
      "execution_count": null,
      "outputs": [
        {
          "output_type": "stream",
          "name": "stdout",
          "text": [
            "Digite um número: 12\n",
            "Digite um número: 3\n",
            "Digite um número: 2\n",
            "[12, 3, 2]\n"
          ]
        }
      ]
    },
    {
      "cell_type": "code",
      "source": [
        "# Dicionários, generalização de listas\n",
        "\n",
        "dic1 = {\"chave1\": \"valor1\", \"chave2\": \"valor2\", \"chave3\": \"valor3\", \"chave4\": \"valor4\"}\n",
        "print(dic1)\n",
        "\n",
        "print()\n",
        "\n",
        "# podemos guardar as propriedades de um dicionário em variáveis, .values() e .keys()\n",
        "chaves_dic1 = dic1.keys()\n",
        "valores_dic1 = dic1.values()\n",
        "print(chaves_dic1)\n",
        "print(type(chaves_dic1))\n",
        "print(valores_dic1)\n",
        "print(type(valores_dic1))\n",
        "# na prática, .keys()e .values() se comportam como listas\n",
        "\n",
        "# acessando um item específico do dicionário, dicionario[chave]\n",
        "item1_dic1 = dic1[\"chave1\"]\n",
        "print(f\"O item1 do diconário1 é '{item1_dic1}'.\")\n",
        "\n",
        "print()\n",
        "\n",
        "# KeyError, quando tentamos acessar um item por uma chave inexistente no dicionário\n",
        "if \"item5_dic1\" in dic1:\n",
        "  print(dic1[\"item5_dic1\"])\n",
        "else:\n",
        "  print(\"Esta chave não está em dic1.\")\n",
        "\n",
        "print()\n",
        "\n",
        "# podemos criar pares ordenados com as chaves e os respectivos valores (chave, valor), .items()\n",
        "items_dic1 = dic1.items()\n",
        "print(items_dic1)\n",
        "print(type(items_dic1))\n",
        "# na prática, .items() se comporta como uma lista de pares ordenados\n",
        "\n",
        "# printando os elementos do dicionário com dupla de variáveis\n",
        "for chaves, valores in dic1.items():\n",
        "  print(f\"Chave: {valores}, Valor: {chaves}\")\n",
        "\n",
        "print()\n",
        "\n",
        "# adiconando items ao dicionário, dicionario[chave_nova] = valor_novo\n",
        "dic1[\"chave_nova\"] = \"valor_novo\"\n",
        "print(dic1)\n",
        "\n",
        "print()\n",
        "\n",
        "# 3 formas de \"dicionarizar\" elementos:\n",
        "#por meio de pares ordenados, método dict()\n",
        "dic2 = dict([('sape', 4139), ('guido', 4127), ('jack', 4098)])\n",
        "print(dic2)\n",
        "\n",
        "#por meio de \"atribuições\"\n",
        "dic3 = dict(sape=4139, guido=4127, jack=4098)\n",
        "print(dic3)\n",
        "\n",
        "#por meio de expressões, utilicando chaves ({})\n",
        "{x: x**2 for x in (2, 4, 6)}"
      ],
      "metadata": {
        "colab": {
          "base_uri": "https://localhost:8080/"
        },
        "id": "S-YRMN6-RRdR",
        "outputId": "23d9a2f8-4119-4d1c-c46b-ff1f872aa77a"
      },
      "execution_count": null,
      "outputs": [
        {
          "output_type": "stream",
          "name": "stdout",
          "text": [
            "{'chave1': 'valor1', 'chave2': 'valor2', 'chave3': 'valor3', 'chave4': 'valor4'}\n",
            "\n",
            "dict_keys(['chave1', 'chave2', 'chave3', 'chave4'])\n",
            "<class 'dict_keys'>\n",
            "dict_values(['valor1', 'valor2', 'valor3', 'valor4'])\n",
            "<class 'dict_values'>\n",
            "O item1 do diconário1 é 'valor1'.\n",
            "\n",
            "Esta chave não está em dic1.\n",
            "\n",
            "dict_items([('chave1', 'valor1'), ('chave2', 'valor2'), ('chave3', 'valor3'), ('chave4', 'valor4')])\n",
            "<class 'dict_items'>\n",
            "Chave: valor1, Valor: chave1\n",
            "Chave: valor2, Valor: chave2\n",
            "Chave: valor3, Valor: chave3\n",
            "Chave: valor4, Valor: chave4\n",
            "\n",
            "{'chave1': 'valor1', 'chave2': 'valor2', 'chave3': 'valor3', 'chave4': 'valor4', 'chave_nova': 'valor_novo'}\n",
            "\n",
            "{'sape': 4139, 'guido': 4127, 'jack': 4098}\n",
            "{'sape': 4139, 'guido': 4127, 'jack': 4098}\n"
          ]
        },
        {
          "output_type": "execute_result",
          "data": {
            "text/plain": [
              "{2: 4, 4: 16, 6: 36}"
            ]
          },
          "metadata": {},
          "execution_count": 11
        }
      ]
    },
    {
      "cell_type": "code",
      "source": [
        "# podemos calcular a soma das chaves caso estas forem números, tratando .items() como uma lista\n",
        "dic2 = {1: \"valor1\", 2: \"valor2\", 3: \"valor3\", 4: \"valor4\", 5: \"valor5\"}\n",
        "valores_dic2 = dic2.values()\n",
        "chaves_dic2 = dic2.keys()\n",
        "\n",
        "# variável que carrega o valor da soma\n",
        "soma = sum(chaves_dic2)\n",
        "# variável que carrega os pares ordenados (key, value)\n",
        "itens = dic2.items()\n",
        "\n",
        "print(f\"O valor da soma das chaves do dicionário é {soma}.\")"
      ],
      "metadata": {
        "colab": {
          "base_uri": "https://localhost:8080/"
        },
        "id": "7khm_7R9QFhk",
        "outputId": "08b732d0-82d5-44cf-e2c8-325f41c6b949"
      },
      "execution_count": null,
      "outputs": [
        {
          "output_type": "stream",
          "name": "stdout",
          "text": [
            "O valor da soma das chaves do dicionário é 15.\n"
          ]
        }
      ]
    }
  ]
}