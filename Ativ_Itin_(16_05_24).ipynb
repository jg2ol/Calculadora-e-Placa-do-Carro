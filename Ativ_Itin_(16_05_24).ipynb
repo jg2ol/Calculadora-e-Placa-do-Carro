{
  "nbformat": 4,
  "nbformat_minor": 0,
  "metadata": {
    "colab": {
      "provenance": [],
      "authorship_tag": "ABX9TyPEfTFBtDwdQ0KFkq8NaJ2R",
      "include_colab_link": true
    },
    "kernelspec": {
      "name": "python3",
      "display_name": "Python 3"
    },
    "language_info": {
      "name": "python"
    }
  },
  "cells": [
    {
      "cell_type": "markdown",
      "metadata": {
        "id": "view-in-github",
        "colab_type": "text"
      },
      "source": [
        "<a href=\"https://colab.research.google.com/github/jg2ol/Itin-Python/blob/main/Ativ_Itin_(16_05_24).ipynb\" target=\"_parent\"><img src=\"https://colab.research.google.com/assets/colab-badge.svg\" alt=\"Open In Colab\"/></a>"
      ]
    },
    {
      "cell_type": "code",
      "execution_count": 21,
      "metadata": {
        "id": "bJ0VM0dyUw5T"
      },
      "outputs": [],
      "source": [
        "# 1.Escreva um programa em Python que receba uma lista de notas de alunos e imprima as notas convertidas em conceitos de acordo com a seguinte tabela:\n",
        "# Notas maior ou igual a 90: A\n",
        "# Notas maior ou igual a 80 e menor que 90: B\n",
        "# Notas maior ou igual a 70 e menor que 80: c\n",
        "# Notas maior ou igual a 60 e menor que 70: D\n",
        "# Notas menor que 60: E\n",
        "\n"
      ]
    },
    {
      "cell_type": "code",
      "source": [
        "# 2.Escreva um programa que solicite uma palavra do usuário e conte quantas vogais (a, e, i, o, u) existem nela, utilizando o loop for.\n",
        "\n",
        "palavra = input(\"Digite uma palavra: \")\n",
        "\n",
        "q_a = 0\n",
        "q_e = 0\n",
        "q_i = 0\n",
        "q_o = 0\n",
        "q_u = 0\n",
        "\n",
        "for x in palavra.lower():\n",
        "  if x in 'aáàãâ':\n",
        "    q_a += 1\n",
        "  if x in 'eéè':\n",
        "    q_e += 1\n",
        "  if x in 'iíì':\n",
        "    q_i += 1\n",
        "  if x in 'oóòõô':\n",
        "    q_o += 1\n",
        "  if x in 'uúù':\n",
        "    q_u += 1\n",
        "print(\"Na sua palavra há:\")\n",
        "print(f\"{q_a} letras 'a'\")\n",
        "print(f\"{q_e} letras 'e'\")\n",
        "print(f\"{q_i} letras 'i'\")\n",
        "print(f\"{q_o} letras 'o'\")\n",
        "print(f\"{q_u} letras 'u'.\")"
      ],
      "metadata": {
        "colab": {
          "base_uri": "https://localhost:8080/"
        },
        "id": "tx6UCcJNZNGo",
        "outputId": "3922274b-6a40-4f65-c7bc-6616121ed22a"
      },
      "execution_count": 13,
      "outputs": [
        {
          "output_type": "stream",
          "name": "stdout",
          "text": [
            "Digite uma palavra: g e7uscejmenthb\n",
            "Na sua palavra há:\n",
            "0 letras 'a'\n",
            "3 letras 'e'\n",
            "0 letras 'i'\n",
            "0 letras 'o'\n",
            "1 letras 'u'.\n"
          ]
        }
      ]
    },
    {
      "cell_type": "code",
      "source": [
        "# 3.Escreva um programa em Python que solicite ao usuário que forneça um dicionário contendo os nomes dos meses como chaves e a quantidade de dias como valores. Utilize um loop for para imprimir apenas os meses que têm mais de 30 dias.\n",
        "\n",
        "meses = {\"Janeiro\": , \"Fevereiro\": , \"Março\": , \"Abril\": , \"Maio\": , \"Junho\": , \"Julho\": , \"Agosto\": , \"Setembro\": , \"Outubro\": , \"Novembro\": , \"Dezembro\": }\n",
        "meses_mod = {}\n",
        "q_meses = int(input(\"Quantos meses voçê quer analisar? \"))\n",
        "\n",
        "#colocar meses.lower()\n",
        "for i in range(q_meses+1):\n",
        "  mes = input(\"Digite um dos nomes dos meses: \")\n",
        "  if mes in meses.keys():\n",
        "    if meses(mes) > 30:\n",
        "      meses_mod(mes) = meses(mes)\n",
        "  else:\n",
        "    print(\"Mês inválido.\")"
      ],
      "metadata": {
        "id": "FLl21ZkibEUI"
      },
      "execution_count": 14,
      "outputs": []
    },
    {
      "cell_type": "code",
      "source": [
        "# 4.Escreva um programa que, ao ter uma lista de números, imprime todos os números pares, com exceção do número 6.\n",
        "\n",
        "lista_numeros = []\n",
        "q_numeros = int(input(\"Quantos números voçê quer colocar na lista? \"))\n",
        "\n",
        "i = 0\n",
        "while i < q_numeros:\n",
        "  numero = int(input(f\"Qual o {i+1}º número? \"))\n",
        "  if numero%2 == 0 and numero != 6:\n",
        "    lista_numeros.append(numero)\n",
        "  i += 1\n",
        "\n",
        "print(f\"Sua lista de números pares e diferentes de 6 é: {lista_numeros}\")"
      ],
      "metadata": {
        "colab": {
          "base_uri": "https://localhost:8080/"
        },
        "id": "M_ra6u5NdY0J",
        "outputId": "4f33a080-1298-43de-a8be-807f4fa1f1b8"
      },
      "execution_count": 22,
      "outputs": [
        {
          "output_type": "stream",
          "name": "stdout",
          "text": [
            "Quantos números voçê quer colocar na lista? 5\n",
            "Qual o 1º número? 1234\n",
            "Qual o 2º número? 0\n",
            "Qual o 3º número? 1\n",
            "Qual o 4º número? 6\n",
            "Qual o 5º número? 33\n",
            "Sua lista de números pares e diferentes de 6 é: [1234, 0]\n"
          ]
        }
      ]
    }
  ]
}