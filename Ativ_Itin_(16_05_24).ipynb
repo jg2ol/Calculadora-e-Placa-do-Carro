{
  "nbformat": 4,
  "nbformat_minor": 0,
  "metadata": {
    "colab": {
      "provenance": [],
      "authorship_tag": "ABX9TyOYRH1wR31cuy1dTBvQEawr",
      "include_colab_link": true
    },
    "kernelspec": {
      "name": "python3",
      "display_name": "Python 3"
    },
    "language_info": {
      "name": "python"
    }
  },
  "cells": [
    {
      "cell_type": "markdown",
      "metadata": {
        "id": "view-in-github",
        "colab_type": "text"
      },
      "source": [
        "<a href=\"https://colab.research.google.com/github/jg2ol/Itin-Python/blob/main/Ativ_Itin_(16_05_24).ipynb\" target=\"_parent\"><img src=\"https://colab.research.google.com/assets/colab-badge.svg\" alt=\"Open In Colab\"/></a>"
      ]
    },
    {
      "cell_type": "code",
      "execution_count": 10,
      "metadata": {
        "id": "bJ0VM0dyUw5T",
        "colab": {
          "base_uri": "https://localhost:8080/"
        },
        "outputId": "6a67bb24-f88a-4895-fee1-973444ac7d32"
      },
      "outputs": [
        {
          "output_type": "stream",
          "name": "stdout",
          "text": [
            "De quantos alunos voçê quer classificar as notas? 3\n",
            "Qual o nome do 1º aluno? Gustavo\n",
            "Quantas notas para este aluno? 3\n",
            "Qual foi a 1º nota deste aluno? 120\n",
            "Qual foi a 2º nota deste aluno? 50\n",
            "Qual foi a 3º nota deste aluno? 75\n",
            "Notas de Gustavo:\n",
            "A nota 120.0: A\n",
            "A nota 50.0: E\n",
            "A nota 75.0: C\n",
            "Qual o nome do 2º aluno? Hellen\n",
            "Quantas notas para este aluno? 2\n",
            "Qual foi a 1º nota deste aluno? 10\n",
            "Qual foi a 2º nota deste aluno? 100\n",
            "Notas de Hellen:\n",
            "A nota 10.0: E\n",
            "A nota 100.0: A\n",
            "Qual o nome do 3º aluno? João\n",
            "Quantas notas para este aluno? 4\n",
            "Qual foi a 1º nota deste aluno? 50\n",
            "Qual foi a 2º nota deste aluno? 150\n",
            "Qual foi a 3º nota deste aluno? 70\n",
            "Qual foi a 4º nota deste aluno? 85\n",
            "Notas de João:\n",
            "A nota 50.0: E\n",
            "A nota 150.0: A\n",
            "A nota 70.0: C\n",
            "A nota 85.0: B\n"
          ]
        }
      ],
      "source": [
        "# 1.Escreva um programa em Python que receba uma lista de notas de alunos e imprima as notas convertidas em conceitos de acordo com a seguinte tabela:\n",
        "# Notas maior ou igual a 90: A\n",
        "# Notas maior ou igual a 80 e menor que 90: B\n",
        "# Notas maior ou igual a 70 e menor que 80: c\n",
        "# Notas maior ou igual a 60 e menor que 70: D\n",
        "# Notas menor que 60: E\n",
        "\n",
        "q_alunos = int(input(\"De quantos alunos voçê quer classificar as notas? \"))\n",
        "\n",
        "i = 0\n",
        "while i < int(q_alunos):\n",
        "  nome_aluno = input(f\"Qual o nome do {i+1}º aluno? \")\n",
        "  q_notas_aluno = int(input(\"Quantas notas para este aluno? \"))\n",
        "\n",
        "  j = 0\n",
        "  notas_aluno = []\n",
        "  while j < q_notas_aluno:\n",
        "    nota = float(input(f\"Qual foi a {j+1}º nota deste aluno? \"))\n",
        "    notas_aluno.append(nota)\n",
        "    j += 1\n",
        "\n",
        "  print(f\"Notas de {nome_aluno}:\")\n",
        "  for y in notas_aluno:\n",
        "    if y < 60:\n",
        "      print(f\"A nota {y}: E\")\n",
        "    elif y >= 60 and y < 70:\n",
        "      print(f\"A nota {y}: D\")\n",
        "    elif y >= 70 and y < 80:\n",
        "      print(f\"A nota {y}: C\")\n",
        "    elif y >= 80 and y < 90:\n",
        "      print(f\"A nota {y}: B\")\n",
        "    elif y >= 90:\n",
        "      print(f\"A nota {y}: A\")\n",
        "\n",
        "  i += 1"
      ]
    },
    {
      "cell_type": "code",
      "source": [
        "# 2.Escreva um programa que solicite uma palavra do usuário e conte quantas vogais (a, e, i, o, u) existem nela, utilizando o loop for.\n",
        "\n",
        "palavra = input(\"Digite uma palavra: \")\n",
        "\n",
        "q_a = 0\n",
        "q_e = 0\n",
        "q_i = 0\n",
        "q_o = 0\n",
        "q_u = 0\n",
        "\n",
        "for x in palavra.lower():\n",
        "  if x in 'aáàãâ':\n",
        "    q_a += 1\n",
        "  if x in 'eéè':\n",
        "    q_e += 1\n",
        "  if x in 'iíì':\n",
        "    q_i += 1\n",
        "  if x in 'oóòõô':\n",
        "    q_o += 1\n",
        "  if x in 'uúù':\n",
        "    q_u += 1\n",
        "print(\"Na sua palavra há:\")\n",
        "print(f\"{q_a} letras 'a'\")\n",
        "print(f\"{q_e} letras 'e'\")\n",
        "print(f\"{q_i} letras 'i'\")\n",
        "print(f\"{q_o} letras 'o'\")\n",
        "print(f\"{q_u} letras 'u'.\")"
      ],
      "metadata": {
        "colab": {
          "base_uri": "https://localhost:8080/"
        },
        "id": "tx6UCcJNZNGo",
        "outputId": "f9de98d1-8229-430f-fbd1-faf262f436e7"
      },
      "execution_count": 11,
      "outputs": [
        {
          "output_type": "stream",
          "name": "stdout",
          "text": [
            "Digite uma palavra: MeunomeèMaria\n",
            "Na sua palavra há:\n",
            "2 letras 'a'\n",
            "3 letras 'e'\n",
            "1 letras 'i'\n",
            "1 letras 'o'\n",
            "1 letras 'u'.\n"
          ]
        }
      ]
    },
    {
      "cell_type": "code",
      "source": [
        "# 3.Escreva um programa em Python que solicite ao usuário que forneça um dicionário contendo os nomes dos meses como chaves e a quantidade de dias como valores. Utilize um loop for para imprimir apenas os meses que têm mais de 30 dias.\n",
        "\n",
        "meses = {\"janeiro\": 31, \"fevereiro\": 28, \"março\": 31, \"abril\": 30, \"maio\": 31, \"junho\": 30, \"julho\": 31, \"agosto\": 31, \"setembro\": 30, \"outubro\": 31, \"novembro\": 30, \"dezembro\": 31}\n",
        "meses_mod = []\n",
        "q_meses = int(input(\"Quantos meses voçê quer analisar? \"))\n",
        "\n",
        "for x in range(q_meses):\n",
        "  mes = input(\"Diga o nome de um dos meses que quer analisar: \").lower()\n",
        "  if mes in meses.keys():\n",
        "    if meses[mes] > 30:\n",
        "      meses_mod.append(mes)\n",
        "  else:\n",
        "    print(\"Mês inválido, por favor, reinicie o sistema.\")\n",
        "\n",
        "print()\n",
        "print(\"Aqui está uma lista com os meses, dentre os ditos, que possuem mais de 30 dias.\")\n",
        "print(meses_mod)"
      ],
      "metadata": {
        "id": "FLl21ZkibEUI",
        "colab": {
          "base_uri": "https://localhost:8080/"
        },
        "outputId": "df2071c7-ff41-4155-d0d1-4b84dfb3dc7b"
      },
      "execution_count": 22,
      "outputs": [
        {
          "output_type": "stream",
          "name": "stdout",
          "text": [
            "Quantos meses voçê quer analisar? 3\n",
            "Diga o nome de um dos meses que quer analisar: janeiro\n",
            "Diga o nome de um dos meses que quer analisar: março\n",
            "Diga o nome de um dos meses que quer analisar: fevereiro\n",
            "\n",
            "Aqui está uma lista com os meses, dentre os ditos, que possuem mais de 30 dias.\n",
            "['janeiro', 'março']\n"
          ]
        }
      ]
    },
    {
      "cell_type": "code",
      "source": [
        "# 4.Escreva um programa que, ao ter uma lista de números, imprime todos os números pares, com exceção do número 6.\n",
        "\n",
        "lista_numeros = []\n",
        "q_numeros = int(input(\"Quantos números voçê quer colocar na lista? \"))\n",
        "\n",
        "i = 0\n",
        "while i < q_numeros:\n",
        "  numero = int(input(f\"Qual o {i+1}º número? \"))\n",
        "  if numero%2 == 0 and numero != 6:\n",
        "    lista_numeros.append(numero)\n",
        "  i += 1\n",
        "\n",
        "print(f\"Sua lista de números pares e diferentes de 6 é: {lista_numeros}\")"
      ],
      "metadata": {
        "colab": {
          "base_uri": "https://localhost:8080/"
        },
        "id": "M_ra6u5NdY0J",
        "outputId": "4f33a080-1298-43de-a8be-807f4fa1f1b8"
      },
      "execution_count": null,
      "outputs": [
        {
          "output_type": "stream",
          "name": "stdout",
          "text": [
            "Quantos números voçê quer colocar na lista? 5\n",
            "Qual o 1º número? 1234\n",
            "Qual o 2º número? 0\n",
            "Qual o 3º número? 1\n",
            "Qual o 4º número? 6\n",
            "Qual o 5º número? 33\n",
            "Sua lista de números pares e diferentes de 6 é: [1234, 0]\n"
          ]
        }
      ]
    }
  ]
}