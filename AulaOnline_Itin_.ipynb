{
  "nbformat": 4,
  "nbformat_minor": 0,
  "metadata": {
    "colab": {
      "provenance": [],
      "authorship_tag": "ABX9TyPdP6DyQWcFlq92NGvXWYiJ",
      "include_colab_link": true
    },
    "kernelspec": {
      "name": "python3",
      "display_name": "Python 3"
    },
    "language_info": {
      "name": "python"
    }
  },
  "cells": [
    {
      "cell_type": "markdown",
      "metadata": {
        "id": "view-in-github",
        "colab_type": "text"
      },
      "source": [
        "<a href=\"https://colab.research.google.com/github/jg2ol/Itin-Python/blob/main/AulaOnline_Itin_.ipynb\" target=\"_parent\"><img src=\"https://colab.research.google.com/assets/colab-badge.svg\" alt=\"Open In Colab\"/></a>"
      ]
    },
    {
      "cell_type": "code",
      "execution_count": 9,
      "metadata": {
        "colab": {
          "base_uri": "https://localhost:8080/"
        },
        "id": "Du8rESYObMFx",
        "outputId": "0f635e9c-a691-4f35-bc2f-2c643afe8602"
      },
      "outputs": [
        {
          "output_type": "stream",
          "name": "stdout",
          "text": [
            "Quantos items foram comprados? 5\n",
            "Qual foi o valor do 1º item? R$120\n",
            "Qual foi o valor do 2º item? R$80\n",
            "Qual foi o valor do 3º item? R$50\n",
            "Qual foi o valor do 4º item? R$300\n",
            "Qual foi o valor do 5º item? R$25\n",
            "O valor da compra foi de R$517.50\n"
          ]
        }
      ],
      "source": [
        "# 1.Suponha que você esteja escrevendo um programa para uma loja de eletrônicos que precisa calcular o preço total de uma compra, considerando descontos. Você tem uma lista com os preços dos itens comprados e deseja aplicar um desconto de 10% se o total da compra for maior que R$ 500,00.\n",
        "\n",
        "valores = []\n",
        "q_items = int(input(\"Quantos items foram comprados? \"))\n",
        "\n",
        "i = 1\n",
        "while i <= q_items:\n",
        "  valor = int(input(f\"Qual foi o valor do {i}º item? R$\"))\n",
        "  valores.append(valor)\n",
        "  i = i + 1\n",
        "\n",
        "valor_da_compra = sum(valores)\n",
        "if valor_da_compra <= 500:\n",
        "  print(f\"O valor da compra foi de R${valor_da_compra}\")\n",
        "else:\n",
        "  print(f\"O valor da compra foi de R${(valor_da_compra*9/10):.2f}\")"
      ]
    },
    {
      "cell_type": "code",
      "source": [
        "# 2.Escreva um programa que pede ao usuário para digitar uma frase e conte o número de palavras nessa frase.\n",
        "\n",
        "frase = input(\"Escreva sua frase: \")\n",
        "q_palavras = len(frase.split(\" \"))\n",
        "print(f\"Na sua frase há {q_palavras} palavras.\")"
      ],
      "metadata": {
        "colab": {
          "base_uri": "https://localhost:8080/"
        },
        "id": "Ix_iXg2Fbudm",
        "outputId": "61f8d1a5-75f5-445b-bae5-8d8b9dd49882"
      },
      "execution_count": 99,
      "outputs": [
        {
          "output_type": "stream",
          "name": "stdout",
          "text": [
            "Escreva sua frase: O nome do meu cachorro é Beethoven.\n",
            "Na sua frase há 7 palavras.\n"
          ]
        }
      ]
    },
    {
      "cell_type": "code",
      "source": [
        "# 3.Escreva um programa que substitui todas as vogais em uma frase dada pelo usuário por asteriscos.\n",
        "\n",
        "frase = input(\"Escreva sua frase: \")\n",
        "\n",
        "for x in frase:\n",
        "  frase_mod1 = frase.replace(\"a\", \"*\")\n",
        "  frase_mod2 = frase_mod1.replace(\"e\", \"*\")\n",
        "  frase_mod3 = frase_mod2.replace(\"i\", \"*\")\n",
        "  frase_mod4 = frase_mod3.replace(\"o\", \"*\")\n",
        "  frase_mod5 = frase_mod4.replace(\"u\", \"*\")\n",
        "\n",
        "print(frase_mod5)"
      ],
      "metadata": {
        "colab": {
          "base_uri": "https://localhost:8080/"
        },
        "id": "E-GVyg7mb3JR",
        "outputId": "0124af75-c14a-469f-d07c-2e3ed760a6a6"
      },
      "execution_count": 100,
      "outputs": [
        {
          "output_type": "stream",
          "name": "stdout",
          "text": [
            "Escreva sua frase: Meu nome é Maria.\n",
            "M** n*m* é M*r**.\n"
          ]
        }
      ]
    },
    {
      "cell_type": "code",
      "source": [
        "# 4.Escreva um programa que pede ao usuário para digitar uma lista de números separados por espaços e crie uma lista desses números.\n",
        "\n",
        "numeros = input(\"Digite os números: \")\n",
        "numeros_str = numeros.split(\" \")\n",
        "q_numeros = len(numeros.split(\" \"))\n",
        "lista_numeros = []\n",
        "\n",
        "i = 0\n",
        "while i < q_numeros:\n",
        "  lista_numeros.append(int(numeros_str[i]))\n",
        "  i = i + 1\n",
        "\n",
        "print(lista_numeros)"
      ],
      "metadata": {
        "colab": {
          "base_uri": "https://localhost:8080/"
        },
        "id": "MJHrokiOb6KE",
        "outputId": "22d4396b-110e-426c-90df-50f02db4a1e7"
      },
      "execution_count": 28,
      "outputs": [
        {
          "output_type": "stream",
          "name": "stdout",
          "text": [
            "Digite os números: 1 2 3 4 5 6\n",
            "[1, 2, 3, 4, 5, 6]\n"
          ]
        }
      ]
    },
    {
      "cell_type": "code",
      "source": [
        "# 5.Escreva um programa em Python que conte o número de dígitos e o número de letras em uma frase fornecida pelo usuário. O programa deve iterar sobre cada caractere na frase e verificar se é um dígito ou uma letra.\n",
        "\n",
        "frase = input(\"Digite uma frase: \")\n",
        "\n",
        "q_numeros = 0\n",
        "q_letras = 0\n",
        "\n",
        "for x in frase:\n",
        "  if x.isdigit():\n",
        "    q_numeros += 1\n",
        "  elif x.isalpha():\n",
        "    q_letras += 1\n",
        "\n",
        "print(f\"Sua frase possui {q_numeros} dígitos e {q_letras} letras.\")"
      ],
      "metadata": {
        "colab": {
          "base_uri": "https://localhost:8080/"
        },
        "id": "oIhC8Ph6b-d7",
        "outputId": "188b9637-b1a2-4daf-cbc7-5113222efb51"
      },
      "execution_count": 90,
      "outputs": [
        {
          "output_type": "stream",
          "name": "stdout",
          "text": [
            "Digite uma frase: Meu nome é Maria e eu tenho 15 anos.\n",
            "Sua frase possui 2 dígitos e 25 letras.\n"
          ]
        }
      ]
    },
    {
      "cell_type": "code",
      "source": [
        "# 6.Escreva um programa em Python que conte o número de vogais e o número de consoantes em uma frase fornecida pelo usuário. O programa deve iterar sobre cada caractere na frase e verificar se é uma vogal (incluindo maiúsculas e minúsculas) ou uma consoante. Ao final, deve imprimir o número total de vogais e o número total de consoantes encontradas na frase.\n",
        "\n",
        "frase = input(\"Insira uma frase: \")\n",
        "lower_frase = frase.lower()\n",
        "\n",
        "q_vogais = 0\n",
        "q_consoantes = 0\n",
        "\n",
        "for x in lower_frase:\n",
        "  if x.isalpha():\n",
        "    if x in 'aáàãâeéèiíìoóòõôuúù':\n",
        "      q_vogais += 1\n",
        "    elif x in 'bcdfghjklmnpqrstvwxyzç':\n",
        "      q_consoantes += 1\n",
        "\n",
        "print(f\"Sua frase possui {q_vogais} vogais e {q_consoantes} consoantes.\")"
      ],
      "metadata": {
        "colab": {
          "base_uri": "https://localhost:8080/"
        },
        "id": "JzRv8zblcCgW",
        "outputId": "e19e97ac-fa0d-4dca-cde4-8efb5d02d4b5"
      },
      "execution_count": 94,
      "outputs": [
        {
          "output_type": "stream",
          "name": "stdout",
          "text": [
            "Insira uma frase: Meu nome é Gustavo e eu gosto de programação.\n",
            "Sua frase possui 19 vogais e 17 consoantes.\n"
          ]
        }
      ]
    }
  ]
}