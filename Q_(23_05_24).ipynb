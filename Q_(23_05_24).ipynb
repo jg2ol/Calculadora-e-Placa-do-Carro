{
  "nbformat": 4,
  "nbformat_minor": 0,
  "metadata": {
    "colab": {
      "provenance": [],
      "authorship_tag": "ABX9TyM+TY2H0zISlDFJDDJb9pEj",
      "include_colab_link": true
    },
    "kernelspec": {
      "name": "python3",
      "display_name": "Python 3"
    },
    "language_info": {
      "name": "python"
    }
  },
  "cells": [
    {
      "cell_type": "markdown",
      "metadata": {
        "id": "view-in-github",
        "colab_type": "text"
      },
      "source": [
        "<a href=\"https://colab.research.google.com/github/jg2ol/Itin-Python/blob/main/Q_(23_05_24).ipynb\" target=\"_parent\"><img src=\"https://colab.research.google.com/assets/colab-badge.svg\" alt=\"Open In Colab\"/></a>"
      ]
    },
    {
      "cell_type": "code",
      "execution_count": null,
      "metadata": {
        "colab": {
          "base_uri": "https://localhost:8080/"
        },
        "id": "I-BCzex4XEDu",
        "outputId": "9896fedc-044c-4e35-b113-a5a609472c6c"
      },
      "outputs": [
        {
          "output_type": "stream",
          "name": "stdout",
          "text": [
            "Digite a altura do 1º aluno em cm: 156\n",
            "Digite a altura do 2º aluno em cm: 180\n",
            "Digite a altura do 3º aluno em cm: 176\n",
            "Digite a altura do 4º aluno em cm: 173\n",
            "Digite a altura do 5º aluno em cm: 162\n",
            "Digite a altura do 6º aluno em cm: 160\n",
            "Digite a altura do 7º aluno em cm: 155\n",
            "Digite a altura do 8º aluno em cm: 182\n",
            "Digite a altura do 9º aluno em cm: 155\n",
            "Digite a altura do 10º aluno em cm: 167\n",
            "\n",
            "O aluno mais alto é o de número 7 com a altura de 1.82m\n",
            "O aluno mais baixo é o de número 6 com a altura de 1.55m\n"
          ]
        }
      ],
      "source": [
        "# 1.Faça um programa em Python que leia dez conjuntos de dois valores, o primeiro representando o número do aluno e o segundo representando a sua altura em centímetros. Mostre o número mais alto e o número do aluno mais baixo, junto com suas alturas.\n",
        "\n",
        "alturas = []\n",
        "for x in range(10):\n",
        "  alt_aluno = int(input(f\"Digite a altura do {x+1}º aluno em cm: \"))\n",
        "  alturas.append(alt_aluno)\n",
        "maior_alt = 0\n",
        "for y in alturas:\n",
        "  if y > maior_alt:\n",
        "    maior_alt = y\n",
        "menor_alt = 300\n",
        "for z in alturas:\n",
        "  if z < menor_alt:\n",
        "    menor_alt = z\n",
        "\n",
        "print()\n",
        "print(f\"O aluno mais alto é o de número {alturas.index(maior_alt)} com a altura de {maior_alt/100}m\")\n",
        "print(f\"O aluno mais baixo é o de número {alturas.index(menor_alt)} com a altura de {menor_alt/100}m\")"
      ]
    },
    {
      "cell_type": "code",
      "source": [
        "# 2.Escreva um programa em Python que peça ao usuário que insira 20 números inteiros. O programa deve armazenar esses números em uma lista e, em seguida, separar os números em duas listas diferentes, uma para os números pares e outra para os números ímpares. Por fim, o programa deve imprimir as três listas.\n",
        "\n",
        "lista_num = []\n",
        "lista_num_pares = []\n",
        "lista_num_impares = []\n",
        "\n",
        "for x in range(20):\n",
        "  num = int(input(\"Digite um número inteiro: \"))\n",
        "  lista_num.append(num)\n",
        "  if num%2 == 0:\n",
        "    lista_num_pares.append(num)\n",
        "  else:\n",
        "    lista_num_impares.append(num)\n",
        "\n",
        "print()\n",
        "print(\"A lista com os números que voçê colocou:\", lista_num)\n",
        "print(\"Dentre os números, que são pares:\", lista_num_pares)\n",
        "print(\"Dentre os números, que são ímpares:\", lista_num_impares)"
      ],
      "metadata": {
        "colab": {
          "base_uri": "https://localhost:8080/"
        },
        "id": "d0h19E6jdhq7",
        "outputId": "ca9bf930-bddc-4287-e7a2-544125970a2a"
      },
      "execution_count": null,
      "outputs": [
        {
          "output_type": "stream",
          "name": "stdout",
          "text": [
            "Digite um número inteiro: 1234\n",
            "Digite um número inteiro: 5\n",
            "Digite um número inteiro: 21\n",
            "Digite um número inteiro: 22\n",
            "Digite um número inteiro: 876\n",
            "Digite um número inteiro: 65\n",
            "Digite um número inteiro: 0\n",
            "Digite um número inteiro: 12\n",
            "Digite um número inteiro: 34\n",
            "Digite um número inteiro: 64\n",
            "Digite um número inteiro: 76\n",
            "Digite um número inteiro: 55\n",
            "Digite um número inteiro: 5\n",
            "Digite um número inteiro: 12\n",
            "Digite um número inteiro: 11\n",
            "Digite um número inteiro: 67\n",
            "Digite um número inteiro: 99\n",
            "Digite um número inteiro: 09874\n",
            "Digite um número inteiro: 23\n",
            "Digite um número inteiro: 445\n",
            "\n",
            "A lista com os números que voçê colocou: [1234, 5, 21, 22, 876, 65, 0, 12, 34, 64, 76, 55, 5, 12, 11, 67, 99, 9874, 23, 445]\n",
            "Dentre os números, que são pares: [1234, 22, 876, 0, 12, 34, 64, 76, 12, 9874]\n",
            "Dentre os números, que são ímpares: [5, 21, 65, 55, 5, 11, 67, 99, 23, 445]\n"
          ]
        }
      ]
    },
    {
      "cell_type": "code",
      "source": [
        "# 3.Faça um programa que solicite ao usuário o valor de uma dívida e o número de parcelas desejado, entre 1, 3, 6, 9 ou 12. O programa deve calcular os juros com base na lista abaixo e mostrar uma tabela com os seguintes dados: valor da dívida, valor dos juros, quantidade de parcelas e valor da parcela.\n",
        "\n",
        "divida = float(input(\"Qual o valor da dívida? R$\"))\n",
        "q_parc = int(input(\"Deseja pagar em quantas parcelas (1, 3, 6, 9 ou 12)? \"))\n",
        "\n",
        "if q_parc == 1:\n",
        "  valor_total = divida\n",
        "  valor_parc = divida\n",
        "  valor_juros = 0\n",
        "elif q_parc == 3:\n",
        "  valor_total = divida*1.1\n",
        "  valor_parc = valor_total/3\n",
        "  valor_juros = valor_total - divida\n",
        "elif q_parc == 6:\n",
        "  valor_total = divida*1.15\n",
        "  valor_parc = valor_total/6\n",
        "  valor_juros = valor_total - divida\n",
        "elif q_parc == 9:\n",
        "  valor_total = divida*1.2\n",
        "  valor_parc = valor_total/9\n",
        "  valor_juros = valor_total - divida\n",
        "elif q_parc == 12:\n",
        "  valor_total = divida*1.25\n",
        "  valor_parc = valor_total/12\n",
        "  valor_juros = valor_total - divida\n",
        "\n",
        "print()\n",
        "print(f\"Valor da sua dívida: R${divida:.2f}\")\n",
        "print(f\"Valor do juros: R${valor_juros:.2f}\")\n",
        "print(f\"Quantidade de parcelas: {q_parc}\")\n",
        "print(f\"Valor de cada parcela: R${valor_parc:.2f}\")"
      ],
      "metadata": {
        "id": "L3z1wBdZjJJV",
        "colab": {
          "base_uri": "https://localhost:8080/"
        },
        "outputId": "88029419-dcf7-45cb-9968-3505dd57f97b"
      },
      "execution_count": 13,
      "outputs": [
        {
          "output_type": "stream",
          "name": "stdout",
          "text": [
            "Qual o valor da dívida? R$2000\n",
            "Deseja pagar em quantas parcelas (1, 3, 6, 9 ou 12)? 6\n",
            "\n",
            "Valor da sua dívida: R$2000.00\n",
            "Valor do juros: R$300.00\n",
            "Quantidade de parcelas: 6\n",
            "Valor de cada parcela: R$383.33\n"
          ]
        }
      ]
    }
  ]
}