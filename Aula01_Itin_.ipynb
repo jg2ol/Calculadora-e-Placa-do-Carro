{
  "nbformat": 4,
  "nbformat_minor": 0,
  "metadata": {
    "colab": {
      "provenance": [],
      "authorship_tag": "ABX9TyOoAtgLa9k3M1qyxq7odvNu",
      "include_colab_link": true
    },
    "kernelspec": {
      "name": "python3",
      "display_name": "Python 3"
    },
    "language_info": {
      "name": "python"
    }
  },
  "cells": [
    {
      "cell_type": "markdown",
      "metadata": {
        "id": "view-in-github",
        "colab_type": "text"
      },
      "source": [
        "<a href=\"https://colab.research.google.com/github/jg2ol/Itin-Python/blob/main/Aula01_Itin_.ipynb\" target=\"_parent\"><img src=\"https://colab.research.google.com/assets/colab-badge.svg\" alt=\"Open In Colab\"/></a>"
      ]
    },
    {
      "cell_type": "markdown",
      "source": [
        "**Aula 01 - (10/02/24)**"
      ],
      "metadata": {
        "id": "7psgWOWUmucm"
      }
    },
    {
      "cell_type": "markdown",
      "source": [
        "1. O que são variáveis e Atribuição\n",
        "\n",
        "R: Uma variável é um nome que se refere a um valor.Variáveis são usadas para guardarmos valores que serão usados mais tarde no programa.\n",
        "Atribuição Um comando é uma unidade de código que o interpretador pode executar."
      ],
      "metadata": {
        "id": "YWmV1FRHrTFd"
      }
    },
    {
      "cell_type": "markdown",
      "source": [
        "2. Quais são os quatro principais tipos de variáveis em programação\n",
        "e como elas se diferenciam?\n",
        "\n",
        "R: Tipo Inteiro (int) - Uma variável que expressa um valor numérico inteiro\n",
        "\n",
        "Ponto Flutuante ou Decimal (float) - Uma variável que expressa um valor numérico não inteiro\n",
        "\n",
        "String (str) - Uma variável que expressa caracteres em formato de texto\n",
        "\n",
        "Boolean (bool) - São"
      ],
      "metadata": {
        "id": "wtGcMhB2sEpn"
      }
    },
    {
      "cell_type": "markdown",
      "source": [
        "3. Como você imprime \"Olá, Mundo!\" em Python?\n",
        "\n",
        "print('Olá, Mundo!')"
      ],
      "metadata": {
        "id": "gp2GZz2Ntian"
      }
    },
    {
      "cell_type": "markdown",
      "source": [
        "4. Como você solicita a entrada do usuário em Python?\n",
        "\n",
        "R: Utilizando a função input()."
      ],
      "metadata": {
        "id": "bt7iGb-CuP-W"
      }
    },
    {
      "cell_type": "code",
      "source": [
        "# 5. Calculadora simples\n",
        "\n",
        "print(\"Selecione a operação desejada:\")\n",
        "print(\"1. Adição\")\n",
        "print(\"2. Subtração\")\n",
        "print(\"3. Multiplicação\")\n",
        "print(\"4. Divisão\")\n",
        "oper = input(\"Digite o número da operação: \")\n",
        "num1 = int(input('Digite o primeiro número: '))\n",
        "num2 = int(input('Digite o segundo número: '))\n",
        "if oper == '1':\n",
        "  r = num1 + num2\n",
        "  print(r)\n",
        "elif oper == '2':\n",
        "  r = num1 - num2\n",
        "  print(r)\n",
        "elif oper == '3':\n",
        "  r = num1*num2\n",
        "  print(r)\n",
        "elif oper == '4':\n",
        "  if num2 != '0':\n",
        "    r = num1/num2\n",
        "    print(r)\n",
        "  else:\n",
        "    print(\"Indeterminado, divisão por zero.\")\n",
        "else:\n",
        "  print(\"Operação indeterminada, considere selecionar outro dígito.\")"
      ],
      "metadata": {
        "colab": {
          "base_uri": "https://localhost:8080/"
        },
        "id": "gjdT3J3gvSbL",
        "outputId": "05bb1094-b949-46b4-865e-69488218d467"
      },
      "execution_count": null,
      "outputs": [
        {
          "output_type": "stream",
          "name": "stdout",
          "text": [
            "Selecione a operação desejada:\n",
            "1. Adição\n",
            "2. Subtração\n",
            "3. Multiplicação\n",
            "4. Divisão\n",
            "Digite o número da operação: 4\n",
            "Digite o primeiro número: 5\n",
            "Digite o segundo número: 4\n",
            "1.25\n"
          ]
        }
      ]
    },
    {
      "cell_type": "code",
      "source": [
        "# Placa do carro\n",
        "\n",
        "ud = int(input(\"Digite o último dígito da placa do carro: \"))\n",
        "if ud == 1 or ud == 2:\n",
        "  print(\"Este veículo pode circular somente às segundas-feiras.\")\n",
        "elif ud == 3 or ud == 4:\n",
        "  print(\"Este veículo pode circular somente às terças-feiras.\")\n",
        "elif ud == 5 or ud == 6:\n",
        "  print(\"Este veículo pode circular somente às quartas-feiras.\")\n",
        "elif ud == 7 or ud == 8:\n",
        "  print(\"Este veículo pode circular somente às quintas-feiras.\")\n",
        "elif ud == 9 or ud == 0:\n",
        "  print(\"Este veículo pode circular somente às sextas-feiras.\")\n",
        "else:\n",
        "  print(\"Dígito da placa inválido, tente novamente\")"
      ],
      "metadata": {
        "colab": {
          "base_uri": "https://localhost:8080/"
        },
        "id": "INaKdphZw9rR",
        "outputId": "bd8a561b-72fb-4ef7-f231-91ccd26779a2"
      },
      "execution_count": null,
      "outputs": [
        {
          "output_type": "stream",
          "name": "stdout",
          "text": [
            "Digite o último dígito da placa do carro: 56\n",
            "Dígito da placa inválido, tente novamente\n"
          ]
        }
      ]
    },
    {
      "cell_type": "code",
      "source": [
        "# 1. Escreva um programa que peça ao usuário que insira uma mensagem e, em seguida, exiba a mensagem digitada pelo usuário.\n",
        "\n",
        "print(\"Olá, digite uma mensagem\")\n",
        "msg = input(\"Mensagem: \")\n",
        "print(\"Sua mensagem foi: \" + msg)"
      ],
      "metadata": {
        "colab": {
          "base_uri": "https://localhost:8080/"
        },
        "id": "Ov3p7ncIyCBx",
        "outputId": "19f1e3e4-f0e5-412b-906e-cfc5e67321d9"
      },
      "execution_count": 1,
      "outputs": [
        {
          "output_type": "stream",
          "name": "stdout",
          "text": [
            "Olá, digite uma mensagem\n",
            "Mensagem: chama\n",
            "Sua mensagem foi: chama\n"
          ]
        }
      ]
    },
    {
      "cell_type": "code",
      "source": [
        "# 2.Escreva um programa que peça ao usuário para inserir três notas e calcule a média delas. Em seguida, imprima a média.\n",
        "\n",
        "print(\"Olá, insira as três notas,por favor, digite somente números.\")\n",
        "nota1 = float(input(\"Primeira nota: \"))\n",
        "nota2 = float(input(\"Segunda nota: \"))\n",
        "nota3 = float(input(\"Terceira nota: \"))\n",
        "media = (nota1 + nota2 + nota3)/3\n",
        "print(\"A média das três notas foi de: \" + str(media))"
      ],
      "metadata": {
        "colab": {
          "base_uri": "https://localhost:8080/"
        },
        "id": "17IMgytTyELj",
        "outputId": "36704bbf-03f1-4c06-d85b-65f638e254c3"
      },
      "execution_count": 2,
      "outputs": [
        {
          "output_type": "stream",
          "name": "stdout",
          "text": [
            "Olá, insira as três notas,por favor, digite somente números.\n",
            "Primeira nota: 2.7\n",
            "Segunda nota: 6\n",
            "Terceira nota: 9\n",
            "A média das três notas foi de: 5.8999999999999995\n"
          ]
        }
      ]
    },
    {
      "cell_type": "code",
      "source": [
        "# 3. Escreva um programa em que solicite ao usuário que insira um número de horas e, em seguida, converta esse valor para minutos.\n",
        "\n",
        "print(\"Olá, por favor me indique a quantidade de horas\")\n",
        "horas = float(input(\"Horas: \"))\n",
        "minutos = horas*60\n",
        "print(\"Em minutos: \" + str(minutos))"
      ],
      "metadata": {
        "colab": {
          "base_uri": "https://localhost:8080/"
        },
        "id": "arPHqwQKyGIV",
        "outputId": "2ed5b36b-c959-4e18-8cae-ed952e127930"
      },
      "execution_count": 4,
      "outputs": [
        {
          "output_type": "stream",
          "name": "stdout",
          "text": [
            "Olá, por favor me indique a quantidade de horas\n",
            "Horas: 2.5\n",
            "Em minutos: 150.0\n"
          ]
        }
      ]
    },
    {
      "cell_type": "code",
      "source": [
        "# 4. Escreva um programa em que solicite ao usuário para inserir um número e, em seguida, calcule e exiba o dobro desse número.\n",
        "\n",
        "numero = float(input(\"Insira um número: \"))\n",
        "dobro = numero*2\n",
        "print(\"O dobro do número indicado é \" + str(dobro))"
      ],
      "metadata": {
        "colab": {
          "base_uri": "https://localhost:8080/"
        },
        "id": "-Hko2Zb0zIc_",
        "outputId": "c6b6fe50-50fc-4af4-c504-6fe8cc4dc53b"
      },
      "execution_count": 5,
      "outputs": [
        {
          "output_type": "stream",
          "name": "stdout",
          "text": [
            "Insira um número: 234\n",
            "O dobro do número indicado é 468.0\n"
          ]
        }
      ]
    }
  ]
}