{
  "nbformat": 4,
  "nbformat_minor": 0,
  "metadata": {
    "colab": {
      "provenance": [],
      "authorship_tag": "ABX9TyNjnhIxQ6cHWJZSjABx/4Bk",
      "include_colab_link": true
    },
    "kernelspec": {
      "name": "python3",
      "display_name": "Python 3"
    },
    "language_info": {
      "name": "python"
    }
  },
  "cells": [
    {
      "cell_type": "markdown",
      "metadata": {
        "id": "view-in-github",
        "colab_type": "text"
      },
      "source": [
        "<a href=\"https://colab.research.google.com/github/jg2ol/Itin-Python/blob/main/Ativ_format_Itin_.ipynb\" target=\"_parent\"><img src=\"https://colab.research.google.com/assets/colab-badge.svg\" alt=\"Open In Colab\"/></a>"
      ]
    },
    {
      "cell_type": "code",
      "execution_count": 3,
      "metadata": {
        "id": "vaPJs7w0NIAY",
        "colab": {
          "base_uri": "https://localhost:8080/"
        },
        "outputId": "e7b206e9-62cc-477f-8cc0-bae7664a8dad"
      },
      "outputs": [
        {
          "output_type": "stream",
          "name": "stdout",
          "text": [
            "Olá! Insira dois números.\n",
            "Primeiro número: 1\n",
            "Segundo número: 2\n",
            "A soma é 3.0\n",
            "A soma é 3.0\n"
          ]
        }
      ],
      "source": [
        "# 1.Escreva um programa em Python que solicita dois números ao usuário e exibe a soma deles duas vezes, uma utilizando f-strings e outra utilizando o método .format().\n",
        "\n",
        "print(\"Olá! Insira dois números.\")\n",
        "num1 = float(input(\"Primeiro número: \"))\n",
        "num2 = float(input(\"Segundo número: \"))\n",
        "soma = num1 + num2\n",
        "print(\"A soma é {}\".format(soma))\n",
        "print(f\"A soma é {soma}\")"
      ]
    },
    {
      "cell_type": "code",
      "source": [
        "# 2.Escreva um código em Python que declare três variáveis: nome do produto, preco do produto e disponibilidade.\n",
        "#Em seguida, utilize tanto f-string quanto o método .format() para criar uma frase que inclua o nome do produto, seu preço e sua disponibilidade.\n",
        "\n",
        "produto = \"Arroz\"\n",
        "preco = 35.00\n",
        "disponibilidade = \"está disponível\"\n",
        "\n",
        "print(\"Olá! O produto {}, no preço de R${}, {} no momento!\".format(produto, preco, disponibilidade))\n",
        "print(f\"Olá! O produto {produto}, no preço de R${preco}, {disponibilidade} no momento!\")"
      ],
      "metadata": {
        "colab": {
          "base_uri": "https://localhost:8080/"
        },
        "id": "84xnDrkXPdcX",
        "outputId": "66b33f9a-d2d9-4d2c-f1b5-1696f2a83b82"
      },
      "execution_count": 7,
      "outputs": [
        {
          "output_type": "stream",
          "name": "stdout",
          "text": [
            "Olá! O produto Arroz, no preço de R$35.0, está disponível no momento!\n",
            "Olá! O produto Arroz, no preço de R$35.0, está disponível no momento!\n"
          ]
        }
      ]
    },
    {
      "cell_type": "code",
      "source": [
        "# 3.Suponha que você tenha ido à livraria e comprado alguns livros. Aqui estão os detalhes da sua compra:\n",
        "# Produto: Livro\n",
        "# Preço unitário: R$35.50\n",
        "# Quantidade comprada: 2\n",
        "# Desconto aplicado: 10%\n",
        "\n",
        "#Faça um programa em Python que solicite ao usuário inserir os seguintes detalhes da compra:\n",
        "# Preço unitário do livro.\n",
        "# Quantidade de livros comprados.\n",
        "# Porcentagem de desconto aplicado.\n",
        "\n",
        "#Em seguida, o programa deve calcular e exibir:\n",
        "# O subtotal da compra.\n",
        "# O valor do desconto aplicado.\n",
        "# O total a pagar após o desconto.\n",
        "\n",
        "print(\"Olá! Por favor, informe:\")\n",
        "preco_unit = float(input(\"O preço por unidade do livro: \"))\n",
        "quant = float(input(\"A quantidade comprada de livros: \"))\n",
        "porc = float(input(\"Seu desconto (%): \"))\n",
        "print()\n",
        "\n",
        "sub_total = preco_unit*quant\n",
        "desconto = sub_total*porc*(1/100)\n",
        "a_pagar = sub_total - desconto\n",
        "\n",
        "print(f\"Subtotal da compra: R${sub_total}\")\n",
        "print(f\"Desconto aplicado: R${desconto}\")\n",
        "print(f\"A pagar: R${a_pagar}\")"
      ],
      "metadata": {
        "colab": {
          "base_uri": "https://localhost:8080/"
        },
        "id": "Xki_tmIiQvv8",
        "outputId": "fae6c3d5-2bdd-4f32-da9d-b6fcc97296e2"
      },
      "execution_count": 9,
      "outputs": [
        {
          "output_type": "stream",
          "name": "stdout",
          "text": [
            "Olá! Por favor, informe:\n",
            "O preço por unidade do livro: 35\n",
            "A quantidade comprada de livros: 4\n",
            "Seu desconto (%): 25\n",
            "\n",
            "Subtotal da compra: R$140.0\n",
            "Desconto aplicado: R$35.0\n",
            "A pagar: R$105.0\n"
          ]
        }
      ]
    }
  ]
}